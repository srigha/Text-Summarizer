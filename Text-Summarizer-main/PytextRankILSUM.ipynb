{
  "nbformat": 4,
  "nbformat_minor": 0,
  "metadata": {
    "colab": {
      "provenance": [],
      "authorship_tag": "ABX9TyNX8xKG5Qnfy2nxTsbvovK5",
      "include_colab_link": true
    },
    "kernelspec": {
      "name": "python3",
      "display_name": "Python 3"
    },
    "language_info": {
      "name": "python"
    }
  },
  "cells": [
    {
      "cell_type": "markdown",
      "metadata": {
        "id": "view-in-github",
        "colab_type": "text"
      },
      "source": [
        "<a href=\"https://colab.research.google.com/github/ShriDurga17/Text-Summarizer/blob/main/PytextRankILSUM.ipynb\" target=\"_parent\"><img src=\"https://colab.research.google.com/assets/colab-badge.svg\" alt=\"Open In Colab\"/></a>"
      ]
    },
    {
      "cell_type": "code",
      "execution_count": null,
      "metadata": {
        "colab": {
          "base_uri": "https://localhost:8080/"
        },
        "id": "fJeUyJ7hflLv",
        "outputId": "84712943-52b2-4697-e03b-e9c226fe0892"
      },
      "outputs": [
        {
          "output_type": "stream",
          "name": "stdout",
          "text": [
            "Looking in indexes: https://pypi.org/simple, https://us-python.pkg.dev/colab-wheels/public/simple/\n",
            "Collecting pytextrank\n",
            "  Downloading pytextrank-3.2.4-py3-none-any.whl (30 kB)\n",
            "Requirement already satisfied: scipy>=1.7 in /usr/local/lib/python3.8/dist-packages (from pytextrank) (1.7.3)\n",
            "Collecting graphviz>=0.13\n",
            "  Downloading graphviz-0.20.1-py3-none-any.whl (47 kB)\n",
            "\u001b[K     |████████████████████████████████| 47 kB 4.2 MB/s \n",
            "\u001b[?25hCollecting icecream>=2.1\n",
            "  Downloading icecream-2.1.3-py2.py3-none-any.whl (8.4 kB)\n",
            "Requirement already satisfied: spacy>=3.0 in /usr/local/lib/python3.8/dist-packages (from pytextrank) (3.4.3)\n",
            "Collecting pygments>=2.7.4\n",
            "  Downloading Pygments-2.13.0-py3-none-any.whl (1.1 MB)\n",
            "\u001b[K     |████████████████████████████████| 1.1 MB 11.5 MB/s \n",
            "\u001b[?25hRequirement already satisfied: networkx[default]>=2.6 in /usr/local/lib/python3.8/dist-packages (from pytextrank) (2.8.8)\n",
            "Collecting colorama>=0.3.9\n",
            "  Downloading colorama-0.4.6-py2.py3-none-any.whl (25 kB)\n",
            "Collecting executing>=0.3.1\n",
            "  Downloading executing-1.2.0-py2.py3-none-any.whl (24 kB)\n",
            "Collecting asttokens>=2.0.1\n",
            "  Downloading asttokens-2.2.1-py2.py3-none-any.whl (26 kB)\n",
            "Requirement already satisfied: six in /usr/local/lib/python3.8/dist-packages (from asttokens>=2.0.1->icecream>=2.1->pytextrank) (1.15.0)\n",
            "Collecting matplotlib>=3.4\n",
            "  Downloading matplotlib-3.6.2-cp38-cp38-manylinux_2_12_x86_64.manylinux2010_x86_64.whl (9.4 MB)\n",
            "\u001b[K     |████████████████████████████████| 9.4 MB 31.6 MB/s \n",
            "\u001b[?25hRequirement already satisfied: pandas>=1.3 in /usr/local/lib/python3.8/dist-packages (from networkx[default]>=2.6->pytextrank) (1.3.5)\n",
            "Collecting scipy>=1.7\n",
            "  Downloading scipy-1.9.3-cp38-cp38-manylinux_2_17_x86_64.manylinux2014_x86_64.whl (33.8 MB)\n",
            "\u001b[K     |████████████████████████████████| 33.8 MB 1.5 MB/s \n",
            "\u001b[?25hRequirement already satisfied: numpy>=1.19 in /usr/local/lib/python3.8/dist-packages (from networkx[default]>=2.6->pytextrank) (1.21.6)\n",
            "Requirement already satisfied: packaging>=20.0 in /usr/local/lib/python3.8/dist-packages (from matplotlib>=3.4->networkx[default]>=2.6->pytextrank) (21.3)\n",
            "Requirement already satisfied: python-dateutil>=2.7 in /usr/local/lib/python3.8/dist-packages (from matplotlib>=3.4->networkx[default]>=2.6->pytextrank) (2.8.2)\n",
            "Collecting fonttools>=4.22.0\n",
            "  Downloading fonttools-4.38.0-py3-none-any.whl (965 kB)\n",
            "\u001b[K     |████████████████████████████████| 965 kB 58.3 MB/s \n",
            "\u001b[?25hRequirement already satisfied: pyparsing>=2.2.1 in /usr/local/lib/python3.8/dist-packages (from matplotlib>=3.4->networkx[default]>=2.6->pytextrank) (3.0.9)\n",
            "Requirement already satisfied: pillow>=6.2.0 in /usr/local/lib/python3.8/dist-packages (from matplotlib>=3.4->networkx[default]>=2.6->pytextrank) (7.1.2)\n",
            "Collecting contourpy>=1.0.1\n",
            "  Downloading contourpy-1.0.6-cp38-cp38-manylinux_2_17_x86_64.manylinux2014_x86_64.whl (295 kB)\n",
            "\u001b[K     |████████████████████████████████| 295 kB 64.9 MB/s \n",
            "\u001b[?25hRequirement already satisfied: kiwisolver>=1.0.1 in /usr/local/lib/python3.8/dist-packages (from matplotlib>=3.4->networkx[default]>=2.6->pytextrank) (1.4.4)\n",
            "Requirement already satisfied: cycler>=0.10 in /usr/local/lib/python3.8/dist-packages (from matplotlib>=3.4->networkx[default]>=2.6->pytextrank) (0.11.0)\n",
            "Requirement already satisfied: pytz>=2017.3 in /usr/local/lib/python3.8/dist-packages (from pandas>=1.3->networkx[default]>=2.6->pytextrank) (2022.6)\n",
            "Requirement already satisfied: requests<3.0.0,>=2.13.0 in /usr/local/lib/python3.8/dist-packages (from spacy>=3.0->pytextrank) (2.23.0)\n",
            "Requirement already satisfied: tqdm<5.0.0,>=4.38.0 in /usr/local/lib/python3.8/dist-packages (from spacy>=3.0->pytextrank) (4.64.1)\n",
            "Requirement already satisfied: pathy>=0.3.5 in /usr/local/lib/python3.8/dist-packages (from spacy>=3.0->pytextrank) (0.10.0)\n",
            "Requirement already satisfied: thinc<8.2.0,>=8.1.0 in /usr/local/lib/python3.8/dist-packages (from spacy>=3.0->pytextrank) (8.1.5)\n",
            "Requirement already satisfied: langcodes<4.0.0,>=3.2.0 in /usr/local/lib/python3.8/dist-packages (from spacy>=3.0->pytextrank) (3.3.0)\n",
            "Requirement already satisfied: catalogue<2.1.0,>=2.0.6 in /usr/local/lib/python3.8/dist-packages (from spacy>=3.0->pytextrank) (2.0.8)\n",
            "Requirement already satisfied: jinja2 in /usr/local/lib/python3.8/dist-packages (from spacy>=3.0->pytextrank) (2.11.3)\n",
            "Requirement already satisfied: pydantic!=1.8,!=1.8.1,<1.11.0,>=1.7.4 in /usr/local/lib/python3.8/dist-packages (from spacy>=3.0->pytextrank) (1.10.2)\n",
            "Requirement already satisfied: typer<0.8.0,>=0.3.0 in /usr/local/lib/python3.8/dist-packages (from spacy>=3.0->pytextrank) (0.7.0)\n",
            "Requirement already satisfied: preshed<3.1.0,>=3.0.2 in /usr/local/lib/python3.8/dist-packages (from spacy>=3.0->pytextrank) (3.0.8)\n",
            "Requirement already satisfied: wasabi<1.1.0,>=0.9.1 in /usr/local/lib/python3.8/dist-packages (from spacy>=3.0->pytextrank) (0.10.1)\n",
            "Requirement already satisfied: cymem<2.1.0,>=2.0.2 in /usr/local/lib/python3.8/dist-packages (from spacy>=3.0->pytextrank) (2.0.7)\n",
            "Requirement already satisfied: spacy-loggers<2.0.0,>=1.0.0 in /usr/local/lib/python3.8/dist-packages (from spacy>=3.0->pytextrank) (1.0.3)\n",
            "Requirement already satisfied: spacy-legacy<3.1.0,>=3.0.10 in /usr/local/lib/python3.8/dist-packages (from spacy>=3.0->pytextrank) (3.0.10)\n",
            "Requirement already satisfied: srsly<3.0.0,>=2.4.3 in /usr/local/lib/python3.8/dist-packages (from spacy>=3.0->pytextrank) (2.4.5)\n",
            "Requirement already satisfied: murmurhash<1.1.0,>=0.28.0 in /usr/local/lib/python3.8/dist-packages (from spacy>=3.0->pytextrank) (1.0.9)\n",
            "Requirement already satisfied: setuptools in /usr/local/lib/python3.8/dist-packages (from spacy>=3.0->pytextrank) (57.4.0)\n",
            "Requirement already satisfied: smart-open<6.0.0,>=5.2.1 in /usr/local/lib/python3.8/dist-packages (from pathy>=0.3.5->spacy>=3.0->pytextrank) (5.2.1)\n",
            "Requirement already satisfied: typing-extensions>=4.1.0 in /usr/local/lib/python3.8/dist-packages (from pydantic!=1.8,!=1.8.1,<1.11.0,>=1.7.4->spacy>=3.0->pytextrank) (4.4.0)\n",
            "Requirement already satisfied: idna<3,>=2.5 in /usr/local/lib/python3.8/dist-packages (from requests<3.0.0,>=2.13.0->spacy>=3.0->pytextrank) (2.10)\n",
            "Requirement already satisfied: urllib3!=1.25.0,!=1.25.1,<1.26,>=1.21.1 in /usr/local/lib/python3.8/dist-packages (from requests<3.0.0,>=2.13.0->spacy>=3.0->pytextrank) (1.24.3)\n",
            "Requirement already satisfied: chardet<4,>=3.0.2 in /usr/local/lib/python3.8/dist-packages (from requests<3.0.0,>=2.13.0->spacy>=3.0->pytextrank) (3.0.4)\n",
            "Requirement already satisfied: certifi>=2017.4.17 in /usr/local/lib/python3.8/dist-packages (from requests<3.0.0,>=2.13.0->spacy>=3.0->pytextrank) (2022.9.24)\n",
            "Requirement already satisfied: blis<0.8.0,>=0.7.8 in /usr/local/lib/python3.8/dist-packages (from thinc<8.2.0,>=8.1.0->spacy>=3.0->pytextrank) (0.7.9)\n",
            "Requirement already satisfied: confection<1.0.0,>=0.0.1 in /usr/local/lib/python3.8/dist-packages (from thinc<8.2.0,>=8.1.0->spacy>=3.0->pytextrank) (0.0.3)\n",
            "Requirement already satisfied: click<9.0.0,>=7.1.1 in /usr/local/lib/python3.8/dist-packages (from typer<0.8.0,>=0.3.0->spacy>=3.0->pytextrank) (7.1.2)\n",
            "Requirement already satisfied: MarkupSafe>=0.23 in /usr/local/lib/python3.8/dist-packages (from jinja2->spacy>=3.0->pytextrank) (2.0.1)\n",
            "Installing collected packages: fonttools, contourpy, scipy, pygments, matplotlib, executing, colorama, asttokens, icecream, graphviz, pytextrank\n",
            "  Attempting uninstall: scipy\n",
            "    Found existing installation: scipy 1.7.3\n",
            "    Uninstalling scipy-1.7.3:\n",
            "      Successfully uninstalled scipy-1.7.3\n",
            "  Attempting uninstall: pygments\n",
            "    Found existing installation: Pygments 2.6.1\n",
            "    Uninstalling Pygments-2.6.1:\n",
            "      Successfully uninstalled Pygments-2.6.1\n",
            "  Attempting uninstall: matplotlib\n",
            "    Found existing installation: matplotlib 3.2.2\n",
            "    Uninstalling matplotlib-3.2.2:\n",
            "      Successfully uninstalled matplotlib-3.2.2\n",
            "  Attempting uninstall: graphviz\n",
            "    Found existing installation: graphviz 0.10.1\n",
            "    Uninstalling graphviz-0.10.1:\n",
            "      Successfully uninstalled graphviz-0.10.1\n",
            "\u001b[31mERROR: pip's dependency resolver does not currently take into account all the packages that are installed. This behaviour is the source of the following dependency conflicts.\n",
            "ipython 7.9.0 requires jedi>=0.10, which is not installed.\u001b[0m\n",
            "Successfully installed asttokens-2.2.1 colorama-0.4.6 contourpy-1.0.6 executing-1.2.0 fonttools-4.38.0 graphviz-0.20.1 icecream-2.1.3 matplotlib-3.6.2 pygments-2.13.0 pytextrank-3.2.4 scipy-1.9.3\n",
            "/usr/local/lib/python3.8/dist-packages/torch/cuda/__init__.py:497: UserWarning: Can't initialize NVML\n",
            "  warnings.warn(\"Can't initialize NVML\")\n",
            "2022-12-08 16:17:35.108427: E tensorflow/stream_executor/cuda/cuda_driver.cc:271] failed call to cuInit: CUDA_ERROR_NO_DEVICE: no CUDA-capable device is detected\n",
            "Looking in indexes: https://pypi.org/simple, https://us-python.pkg.dev/colab-wheels/public/simple/\n",
            "Collecting en-core-web-sm==3.4.1\n",
            "  Downloading https://github.com/explosion/spacy-models/releases/download/en_core_web_sm-3.4.1/en_core_web_sm-3.4.1-py3-none-any.whl (12.8 MB)\n",
            "\u001b[K     |████████████████████████████████| 12.8 MB 3.3 MB/s \n",
            "\u001b[?25hRequirement already satisfied: spacy<3.5.0,>=3.4.0 in /usr/local/lib/python3.8/dist-packages (from en-core-web-sm==3.4.1) (3.4.3)\n",
            "Requirement already satisfied: jinja2 in /usr/local/lib/python3.8/dist-packages (from spacy<3.5.0,>=3.4.0->en-core-web-sm==3.4.1) (2.11.3)\n",
            "Requirement already satisfied: spacy-loggers<2.0.0,>=1.0.0 in /usr/local/lib/python3.8/dist-packages (from spacy<3.5.0,>=3.4.0->en-core-web-sm==3.4.1) (1.0.3)\n",
            "Requirement already satisfied: wasabi<1.1.0,>=0.9.1 in /usr/local/lib/python3.8/dist-packages (from spacy<3.5.0,>=3.4.0->en-core-web-sm==3.4.1) (0.10.1)\n",
            "Requirement already satisfied: requests<3.0.0,>=2.13.0 in /usr/local/lib/python3.8/dist-packages (from spacy<3.5.0,>=3.4.0->en-core-web-sm==3.4.1) (2.23.0)\n",
            "Requirement already satisfied: numpy>=1.15.0 in /usr/local/lib/python3.8/dist-packages (from spacy<3.5.0,>=3.4.0->en-core-web-sm==3.4.1) (1.21.6)\n",
            "Requirement already satisfied: spacy-legacy<3.1.0,>=3.0.10 in /usr/local/lib/python3.8/dist-packages (from spacy<3.5.0,>=3.4.0->en-core-web-sm==3.4.1) (3.0.10)\n",
            "Requirement already satisfied: setuptools in /usr/local/lib/python3.8/dist-packages (from spacy<3.5.0,>=3.4.0->en-core-web-sm==3.4.1) (57.4.0)\n",
            "Requirement already satisfied: packaging>=20.0 in /usr/local/lib/python3.8/dist-packages (from spacy<3.5.0,>=3.4.0->en-core-web-sm==3.4.1) (21.3)\n",
            "Requirement already satisfied: pathy>=0.3.5 in /usr/local/lib/python3.8/dist-packages (from spacy<3.5.0,>=3.4.0->en-core-web-sm==3.4.1) (0.10.0)\n",
            "Requirement already satisfied: tqdm<5.0.0,>=4.38.0 in /usr/local/lib/python3.8/dist-packages (from spacy<3.5.0,>=3.4.0->en-core-web-sm==3.4.1) (4.64.1)\n",
            "Requirement already satisfied: langcodes<4.0.0,>=3.2.0 in /usr/local/lib/python3.8/dist-packages (from spacy<3.5.0,>=3.4.0->en-core-web-sm==3.4.1) (3.3.0)\n",
            "Requirement already satisfied: murmurhash<1.1.0,>=0.28.0 in /usr/local/lib/python3.8/dist-packages (from spacy<3.5.0,>=3.4.0->en-core-web-sm==3.4.1) (1.0.9)\n",
            "Requirement already satisfied: cymem<2.1.0,>=2.0.2 in /usr/local/lib/python3.8/dist-packages (from spacy<3.5.0,>=3.4.0->en-core-web-sm==3.4.1) (2.0.7)\n",
            "Requirement already satisfied: catalogue<2.1.0,>=2.0.6 in /usr/local/lib/python3.8/dist-packages (from spacy<3.5.0,>=3.4.0->en-core-web-sm==3.4.1) (2.0.8)\n",
            "Requirement already satisfied: preshed<3.1.0,>=3.0.2 in /usr/local/lib/python3.8/dist-packages (from spacy<3.5.0,>=3.4.0->en-core-web-sm==3.4.1) (3.0.8)\n",
            "Requirement already satisfied: srsly<3.0.0,>=2.4.3 in /usr/local/lib/python3.8/dist-packages (from spacy<3.5.0,>=3.4.0->en-core-web-sm==3.4.1) (2.4.5)\n",
            "Requirement already satisfied: pydantic!=1.8,!=1.8.1,<1.11.0,>=1.7.4 in /usr/local/lib/python3.8/dist-packages (from spacy<3.5.0,>=3.4.0->en-core-web-sm==3.4.1) (1.10.2)\n",
            "Requirement already satisfied: thinc<8.2.0,>=8.1.0 in /usr/local/lib/python3.8/dist-packages (from spacy<3.5.0,>=3.4.0->en-core-web-sm==3.4.1) (8.1.5)\n",
            "Requirement already satisfied: typer<0.8.0,>=0.3.0 in /usr/local/lib/python3.8/dist-packages (from spacy<3.5.0,>=3.4.0->en-core-web-sm==3.4.1) (0.7.0)\n",
            "Requirement already satisfied: pyparsing!=3.0.5,>=2.0.2 in /usr/local/lib/python3.8/dist-packages (from packaging>=20.0->spacy<3.5.0,>=3.4.0->en-core-web-sm==3.4.1) (3.0.9)\n",
            "Requirement already satisfied: smart-open<6.0.0,>=5.2.1 in /usr/local/lib/python3.8/dist-packages (from pathy>=0.3.5->spacy<3.5.0,>=3.4.0->en-core-web-sm==3.4.1) (5.2.1)\n",
            "Requirement already satisfied: typing-extensions>=4.1.0 in /usr/local/lib/python3.8/dist-packages (from pydantic!=1.8,!=1.8.1,<1.11.0,>=1.7.4->spacy<3.5.0,>=3.4.0->en-core-web-sm==3.4.1) (4.4.0)\n",
            "Requirement already satisfied: certifi>=2017.4.17 in /usr/local/lib/python3.8/dist-packages (from requests<3.0.0,>=2.13.0->spacy<3.5.0,>=3.4.0->en-core-web-sm==3.4.1) (2022.9.24)\n",
            "Requirement already satisfied: idna<3,>=2.5 in /usr/local/lib/python3.8/dist-packages (from requests<3.0.0,>=2.13.0->spacy<3.5.0,>=3.4.0->en-core-web-sm==3.4.1) (2.10)\n",
            "Requirement already satisfied: urllib3!=1.25.0,!=1.25.1,<1.26,>=1.21.1 in /usr/local/lib/python3.8/dist-packages (from requests<3.0.0,>=2.13.0->spacy<3.5.0,>=3.4.0->en-core-web-sm==3.4.1) (1.24.3)\n",
            "Requirement already satisfied: chardet<4,>=3.0.2 in /usr/local/lib/python3.8/dist-packages (from requests<3.0.0,>=2.13.0->spacy<3.5.0,>=3.4.0->en-core-web-sm==3.4.1) (3.0.4)\n",
            "Requirement already satisfied: confection<1.0.0,>=0.0.1 in /usr/local/lib/python3.8/dist-packages (from thinc<8.2.0,>=8.1.0->spacy<3.5.0,>=3.4.0->en-core-web-sm==3.4.1) (0.0.3)\n",
            "Requirement already satisfied: blis<0.8.0,>=0.7.8 in /usr/local/lib/python3.8/dist-packages (from thinc<8.2.0,>=8.1.0->spacy<3.5.0,>=3.4.0->en-core-web-sm==3.4.1) (0.7.9)\n",
            "Requirement already satisfied: click<9.0.0,>=7.1.1 in /usr/local/lib/python3.8/dist-packages (from typer<0.8.0,>=0.3.0->spacy<3.5.0,>=3.4.0->en-core-web-sm==3.4.1) (7.1.2)\n",
            "Requirement already satisfied: MarkupSafe>=0.23 in /usr/local/lib/python3.8/dist-packages (from jinja2->spacy<3.5.0,>=3.4.0->en-core-web-sm==3.4.1) (2.0.1)\n",
            "\u001b[38;5;2m✔ Download and installation successful\u001b[0m\n",
            "You can now load the package via spacy.load('en_core_web_sm')\n"
          ]
        }
      ],
      "source": [
        "! python3 -m pip install pytextrank\n",
        "! python3 -m spacy download en_core_web_sm"
      ]
    },
    {
      "cell_type": "code",
      "source": [
        "from icecream import ic\n",
        "import pandas as pd\n",
        "import spacy\n",
        "import pytextrank\n",
        "nlp = spacy.load(\"en_core_web_sm\")\n",
        "# add PyTextRank to the spaCy pipeline\n",
        "nlp.add_pipe(\"textrank\")\n",
        "print(f\"{nlp.pipe_names}\")"
      ],
      "metadata": {
        "colab": {
          "base_uri": "https://localhost:8080/"
        },
        "id": "dGcIp7zhhHTF",
        "outputId": "a159c2ca-ddfc-45f2-8487-94a96840d64a"
      },
      "execution_count": null,
      "outputs": [
        {
          "output_type": "stream",
          "name": "stderr",
          "text": [
            "/usr/local/lib/python3.8/dist-packages/torch/cuda/__init__.py:497: UserWarning: Can't initialize NVML\n",
            "  warnings.warn(\"Can't initialize NVML\")\n"
          ]
        },
        {
          "output_type": "stream",
          "name": "stdout",
          "text": [
            "['tok2vec', 'tagger', 'parser', 'attribute_ruler', 'lemmatizer', 'ner', 'textrank']\n"
          ]
        }
      ]
    },
    {
      "cell_type": "code",
      "source": [
        "train_en = pd.read_csv('/content/article train data set.csv')\n",
        "valid_en = pd.read_csv('/content/article val data set.csv')"
      ],
      "metadata": {
        "id": "zEtlOn_OhJd6"
      },
      "execution_count": null,
      "outputs": []
    },
    {
      "cell_type": "code",
      "source": [
        "valid_en.head()"
      ],
      "metadata": {
        "colab": {
          "base_uri": "https://localhost:8080/",
          "height": 751
        },
        "id": "j8HiTJBglj_0",
        "outputId": "2e995028-5d1c-4643-bda7-bcf799c35310"
      },
      "execution_count": null,
      "outputs": [
        {
          "output_type": "execute_result",
          "data": {
            "text/plain": [
              "                                 id  \\\n",
              "0  0e99444b1d4e7b8886582e371a6ce939   \n",
              "1  adfa04f5e1e7403dd90f5cddd29b6c37   \n",
              "2  77d978318d3503fc6485c138ae3f3aa2   \n",
              "3  973c4f387dc9f48e1be58608101bc3d6   \n",
              "4  cb502ddb99c6a53d46b300027b4fe589   \n",
              "\n",
              "                                             Article Unnamed: 2 Unnamed: 3  \\\n",
              "0  Pak PM Imran Khan expresses solidarity with In...        NaN        NaN   \n",
              "1  The Pentagon on Monday, June 18, 2018, formall...        NaN        NaN   \n",
              "2  Taliban fighters patrol in the Wazir Akbar Kha...        NaN        NaN   \n",
              "3  A top official of American  defence intelligen...        NaN        NaN   \n",
              "4  Boris Johnson's advisor under pressure over lo...        NaN        NaN   \n",
              "\n",
              "  Unnamed: 4 Unnamed: 5 Unnamed: 6 Unnamed: 7 Unnamed: 8 Unnamed: 9  ...  \\\n",
              "0        NaN        NaN        NaN        NaN        NaN        NaN  ...   \n",
              "1        NaN        NaN        NaN        NaN        NaN        NaN  ...   \n",
              "2        NaN        NaN        NaN        NaN        NaN        NaN  ...   \n",
              "3        NaN        NaN        NaN        NaN        NaN        NaN  ...   \n",
              "4        NaN        NaN        NaN        NaN        NaN        NaN  ...   \n",
              "\n",
              "  Unnamed: 223 Unnamed: 224 Unnamed: 225 Unnamed: 226 Unnamed: 227  \\\n",
              "0          NaN          NaN          NaN          NaN          NaN   \n",
              "1          NaN          NaN          NaN          NaN          NaN   \n",
              "2          NaN          NaN          NaN          NaN          NaN   \n",
              "3          NaN          NaN          NaN          NaN          NaN   \n",
              "4          NaN          NaN          NaN          NaN          NaN   \n",
              "\n",
              "  Unnamed: 228 Unnamed: 229 Unnamed: 230 Unnamed: 231 Unnamed: 232  \n",
              "0          NaN          NaN          NaN          NaN          NaN  \n",
              "1          NaN          NaN          NaN          NaN          NaN  \n",
              "2          NaN          NaN          NaN          NaN          NaN  \n",
              "3          NaN          NaN          NaN          NaN          NaN  \n",
              "4          NaN          NaN          NaN          NaN          NaN  \n",
              "\n",
              "[5 rows x 233 columns]"
            ],
            "text/html": [
              "\n",
              "  <div id=\"df-728e0a28-f594-482b-aa38-30ae87b4b321\">\n",
              "    <div class=\"colab-df-container\">\n",
              "      <div>\n",
              "<style scoped>\n",
              "    .dataframe tbody tr th:only-of-type {\n",
              "        vertical-align: middle;\n",
              "    }\n",
              "\n",
              "    .dataframe tbody tr th {\n",
              "        vertical-align: top;\n",
              "    }\n",
              "\n",
              "    .dataframe thead th {\n",
              "        text-align: right;\n",
              "    }\n",
              "</style>\n",
              "<table border=\"1\" class=\"dataframe\">\n",
              "  <thead>\n",
              "    <tr style=\"text-align: right;\">\n",
              "      <th></th>\n",
              "      <th>id</th>\n",
              "      <th>Article</th>\n",
              "      <th>Unnamed: 2</th>\n",
              "      <th>Unnamed: 3</th>\n",
              "      <th>Unnamed: 4</th>\n",
              "      <th>Unnamed: 5</th>\n",
              "      <th>Unnamed: 6</th>\n",
              "      <th>Unnamed: 7</th>\n",
              "      <th>Unnamed: 8</th>\n",
              "      <th>Unnamed: 9</th>\n",
              "      <th>...</th>\n",
              "      <th>Unnamed: 223</th>\n",
              "      <th>Unnamed: 224</th>\n",
              "      <th>Unnamed: 225</th>\n",
              "      <th>Unnamed: 226</th>\n",
              "      <th>Unnamed: 227</th>\n",
              "      <th>Unnamed: 228</th>\n",
              "      <th>Unnamed: 229</th>\n",
              "      <th>Unnamed: 230</th>\n",
              "      <th>Unnamed: 231</th>\n",
              "      <th>Unnamed: 232</th>\n",
              "    </tr>\n",
              "  </thead>\n",
              "  <tbody>\n",
              "    <tr>\n",
              "      <th>0</th>\n",
              "      <td>0e99444b1d4e7b8886582e371a6ce939</td>\n",
              "      <td>Pak PM Imran Khan expresses solidarity with In...</td>\n",
              "      <td>NaN</td>\n",
              "      <td>NaN</td>\n",
              "      <td>NaN</td>\n",
              "      <td>NaN</td>\n",
              "      <td>NaN</td>\n",
              "      <td>NaN</td>\n",
              "      <td>NaN</td>\n",
              "      <td>NaN</td>\n",
              "      <td>...</td>\n",
              "      <td>NaN</td>\n",
              "      <td>NaN</td>\n",
              "      <td>NaN</td>\n",
              "      <td>NaN</td>\n",
              "      <td>NaN</td>\n",
              "      <td>NaN</td>\n",
              "      <td>NaN</td>\n",
              "      <td>NaN</td>\n",
              "      <td>NaN</td>\n",
              "      <td>NaN</td>\n",
              "    </tr>\n",
              "    <tr>\n",
              "      <th>1</th>\n",
              "      <td>adfa04f5e1e7403dd90f5cddd29b6c37</td>\n",
              "      <td>The Pentagon on Monday, June 18, 2018, formall...</td>\n",
              "      <td>NaN</td>\n",
              "      <td>NaN</td>\n",
              "      <td>NaN</td>\n",
              "      <td>NaN</td>\n",
              "      <td>NaN</td>\n",
              "      <td>NaN</td>\n",
              "      <td>NaN</td>\n",
              "      <td>NaN</td>\n",
              "      <td>...</td>\n",
              "      <td>NaN</td>\n",
              "      <td>NaN</td>\n",
              "      <td>NaN</td>\n",
              "      <td>NaN</td>\n",
              "      <td>NaN</td>\n",
              "      <td>NaN</td>\n",
              "      <td>NaN</td>\n",
              "      <td>NaN</td>\n",
              "      <td>NaN</td>\n",
              "      <td>NaN</td>\n",
              "    </tr>\n",
              "    <tr>\n",
              "      <th>2</th>\n",
              "      <td>77d978318d3503fc6485c138ae3f3aa2</td>\n",
              "      <td>Taliban fighters patrol in the Wazir Akbar Kha...</td>\n",
              "      <td>NaN</td>\n",
              "      <td>NaN</td>\n",
              "      <td>NaN</td>\n",
              "      <td>NaN</td>\n",
              "      <td>NaN</td>\n",
              "      <td>NaN</td>\n",
              "      <td>NaN</td>\n",
              "      <td>NaN</td>\n",
              "      <td>...</td>\n",
              "      <td>NaN</td>\n",
              "      <td>NaN</td>\n",
              "      <td>NaN</td>\n",
              "      <td>NaN</td>\n",
              "      <td>NaN</td>\n",
              "      <td>NaN</td>\n",
              "      <td>NaN</td>\n",
              "      <td>NaN</td>\n",
              "      <td>NaN</td>\n",
              "      <td>NaN</td>\n",
              "    </tr>\n",
              "    <tr>\n",
              "      <th>3</th>\n",
              "      <td>973c4f387dc9f48e1be58608101bc3d6</td>\n",
              "      <td>A top official of American  defence intelligen...</td>\n",
              "      <td>NaN</td>\n",
              "      <td>NaN</td>\n",
              "      <td>NaN</td>\n",
              "      <td>NaN</td>\n",
              "      <td>NaN</td>\n",
              "      <td>NaN</td>\n",
              "      <td>NaN</td>\n",
              "      <td>NaN</td>\n",
              "      <td>...</td>\n",
              "      <td>NaN</td>\n",
              "      <td>NaN</td>\n",
              "      <td>NaN</td>\n",
              "      <td>NaN</td>\n",
              "      <td>NaN</td>\n",
              "      <td>NaN</td>\n",
              "      <td>NaN</td>\n",
              "      <td>NaN</td>\n",
              "      <td>NaN</td>\n",
              "      <td>NaN</td>\n",
              "    </tr>\n",
              "    <tr>\n",
              "      <th>4</th>\n",
              "      <td>cb502ddb99c6a53d46b300027b4fe589</td>\n",
              "      <td>Boris Johnson's advisor under pressure over lo...</td>\n",
              "      <td>NaN</td>\n",
              "      <td>NaN</td>\n",
              "      <td>NaN</td>\n",
              "      <td>NaN</td>\n",
              "      <td>NaN</td>\n",
              "      <td>NaN</td>\n",
              "      <td>NaN</td>\n",
              "      <td>NaN</td>\n",
              "      <td>...</td>\n",
              "      <td>NaN</td>\n",
              "      <td>NaN</td>\n",
              "      <td>NaN</td>\n",
              "      <td>NaN</td>\n",
              "      <td>NaN</td>\n",
              "      <td>NaN</td>\n",
              "      <td>NaN</td>\n",
              "      <td>NaN</td>\n",
              "      <td>NaN</td>\n",
              "      <td>NaN</td>\n",
              "    </tr>\n",
              "  </tbody>\n",
              "</table>\n",
              "<p>5 rows × 233 columns</p>\n",
              "</div>\n",
              "      <button class=\"colab-df-convert\" onclick=\"convertToInteractive('df-728e0a28-f594-482b-aa38-30ae87b4b321')\"\n",
              "              title=\"Convert this dataframe to an interactive table.\"\n",
              "              style=\"display:none;\">\n",
              "        \n",
              "  <svg xmlns=\"http://www.w3.org/2000/svg\" height=\"24px\"viewBox=\"0 0 24 24\"\n",
              "       width=\"24px\">\n",
              "    <path d=\"M0 0h24v24H0V0z\" fill=\"none\"/>\n",
              "    <path d=\"M18.56 5.44l.94 2.06.94-2.06 2.06-.94-2.06-.94-.94-2.06-.94 2.06-2.06.94zm-11 1L8.5 8.5l.94-2.06 2.06-.94-2.06-.94L8.5 2.5l-.94 2.06-2.06.94zm10 10l.94 2.06.94-2.06 2.06-.94-2.06-.94-.94-2.06-.94 2.06-2.06.94z\"/><path d=\"M17.41 7.96l-1.37-1.37c-.4-.4-.92-.59-1.43-.59-.52 0-1.04.2-1.43.59L10.3 9.45l-7.72 7.72c-.78.78-.78 2.05 0 2.83L4 21.41c.39.39.9.59 1.41.59.51 0 1.02-.2 1.41-.59l7.78-7.78 2.81-2.81c.8-.78.8-2.07 0-2.86zM5.41 20L4 18.59l7.72-7.72 1.47 1.35L5.41 20z\"/>\n",
              "  </svg>\n",
              "      </button>\n",
              "      \n",
              "  <style>\n",
              "    .colab-df-container {\n",
              "      display:flex;\n",
              "      flex-wrap:wrap;\n",
              "      gap: 12px;\n",
              "    }\n",
              "\n",
              "    .colab-df-convert {\n",
              "      background-color: #E8F0FE;\n",
              "      border: none;\n",
              "      border-radius: 50%;\n",
              "      cursor: pointer;\n",
              "      display: none;\n",
              "      fill: #1967D2;\n",
              "      height: 32px;\n",
              "      padding: 0 0 0 0;\n",
              "      width: 32px;\n",
              "    }\n",
              "\n",
              "    .colab-df-convert:hover {\n",
              "      background-color: #E2EBFA;\n",
              "      box-shadow: 0px 1px 2px rgba(60, 64, 67, 0.3), 0px 1px 3px 1px rgba(60, 64, 67, 0.15);\n",
              "      fill: #174EA6;\n",
              "    }\n",
              "\n",
              "    [theme=dark] .colab-df-convert {\n",
              "      background-color: #3B4455;\n",
              "      fill: #D2E3FC;\n",
              "    }\n",
              "\n",
              "    [theme=dark] .colab-df-convert:hover {\n",
              "      background-color: #434B5C;\n",
              "      box-shadow: 0px 1px 3px 1px rgba(0, 0, 0, 0.15);\n",
              "      filter: drop-shadow(0px 1px 2px rgba(0, 0, 0, 0.3));\n",
              "      fill: #FFFFFF;\n",
              "    }\n",
              "  </style>\n",
              "\n",
              "      <script>\n",
              "        const buttonEl =\n",
              "          document.querySelector('#df-728e0a28-f594-482b-aa38-30ae87b4b321 button.colab-df-convert');\n",
              "        buttonEl.style.display =\n",
              "          google.colab.kernel.accessAllowed ? 'block' : 'none';\n",
              "\n",
              "        async function convertToInteractive(key) {\n",
              "          const element = document.querySelector('#df-728e0a28-f594-482b-aa38-30ae87b4b321');\n",
              "          const dataTable =\n",
              "            await google.colab.kernel.invokeFunction('convertToInteractive',\n",
              "                                                     [key], {});\n",
              "          if (!dataTable) return;\n",
              "\n",
              "          const docLinkHtml = 'Like what you see? Visit the ' +\n",
              "            '<a target=\"_blank\" href=https://colab.research.google.com/notebooks/data_table.ipynb>data table notebook</a>'\n",
              "            + ' to learn more about interactive tables.';\n",
              "          element.innerHTML = '';\n",
              "          dataTable['output_type'] = 'display_data';\n",
              "          await google.colab.output.renderOutput(dataTable, element);\n",
              "          const docLink = document.createElement('div');\n",
              "          docLink.innerHTML = docLinkHtml;\n",
              "          element.appendChild(docLink);\n",
              "        }\n",
              "      </script>\n",
              "    </div>\n",
              "  </div>\n",
              "  "
            ]
          },
          "metadata": {},
          "execution_count": 18
        }
      ]
    },
    {
      "cell_type": "code",
      "source": [
        "text = valid_en[\"Article\"][0]\n",
        "text"
      ],
      "metadata": {
        "id": "msM0tWy1hWNo",
        "colab": {
          "base_uri": "https://localhost:8080/",
          "height": 244
        },
        "outputId": "f53c7ee0-9a09-4e0c-9667-b9c8d6d44bf9"
      },
      "execution_count": null,
      "outputs": [
        {
          "output_type": "execute_result",
          "data": {
            "text/plain": [
              "'Pak PM Imran Khan expresses solidarity with India over COVID-19 crisisPakistan Prime Minister Imran Khan on Saturday expressed his solidarity with the people of India amid the \"dangerous\" second wave of COVID-19, adding that \"we must fight this global challenge confronting humanity together\".\"I want to express our solidarity with people of India as they battle a dangerous wave of #COVID19. Our prayers for speedy recovery go to all those suffering from pandemic in our neighbourhood and world,\" tweeted Mr Khan.\"We must fight this global challenge confronting humanity together,\" he added.Pakistan Foreign Minister Shah Mahmood Qureshi also expressed support to the people of India and said the COVID-19 crisis is yet another reminder that humanitarian issues require responses beyond political consideration.\"We express our support to the people of India in the wake of the current wave of #COVID19 infections that has hit our region hard. On behalf of the people of Pakistan, I extend our heartfelt sympathies to the affected families in #India,\" Mr Qureshi tweeted.\"#COVID19 is yet another reminder that humanitarian issues require responses beyond political consideration. Pakistan continues to work with SAARC countries to foster cooperation to tackle the pandemic,\" he added.India on Saturday recorded 3,46,786 new COVID-19 cases, the highest single-day spike since the pandemic broke out last year. According to the official data issued by the government, the country recorded 2,624 new deaths due to COVID-19 in the last 24 hours.So far, 1,66,10,481 COVID-19 cases have been reported in India while 1,89,544 people have died due to the viral infection.\\xa0Currently, there are 25,52,940 active cases of COVID-19 in the country.ALSO READ | It\\'s tsunami and we are calling it wave: Delhi HC tells Centre, State to overcome crisis'"
            ],
            "application/vnd.google.colaboratory.intrinsic+json": {
              "type": "string"
            }
          },
          "metadata": {},
          "execution_count": 5
        }
      ]
    },
    {
      "cell_type": "code",
      "source": [
        "doc = nlp(text)\n",
        "\n",
        "# examine the top-ranked phrases in the document\n",
        "for p in doc._.phrases:\n",
        "    ic(p.rank, p.count, p.text)\n",
        "    ic(p.chunks)"
      ],
      "metadata": {
        "id": "t1pcyJW1h9-l",
        "colab": {
          "base_uri": "https://localhost:8080/"
        },
        "outputId": "f62a6709-37d4-41aa-9622-4cfc502c4b4c"
      },
      "execution_count": null,
      "outputs": [
        {
          "output_type": "stream",
          "name": "stderr",
          "text": [
            "ic| p.rank: 0.10841237166421253\n",
            "    p.count: 1\n",
            "    p.text: 'humanity together\"'\n",
            "ic| p.chunks: [humanity together\"]\n",
            "ic| p.rank: 0.09393970375423207\n",
            "    p.count: 2\n",
            "    p.text: 'political consideration'\n",
            "ic| p.chunks: [political consideration, political consideration]\n",
            "ic| p.rank: 0.08883598706685625, p.count: 1, p.text: 'Mr Khan'\n",
            "ic| p.chunks: [Mr Khan]\n",
            "ic| p.rank: 0.0881448626609615\n",
            "    p.count: 1\n",
            "    p.text: '3,46,786 new COVID-19 cases'\n",
            "ic| p.chunks: [3,46,786 new COVID-19 cases]\n",
            "ic| p.rank: 0.08484156042685867, p.count: 1, p.text: 'humanity'\n",
            "ic| p.chunks: [humanity]\n",
            "ic| p.rank: 0.08222882802345743, p.count: 1, p.text: 'last year'\n",
            "ic| p.chunks: [last year]\n",
            "ic| p.rank: 0.08156633295211078, p.count: 15, p.text: 'India'\n",
            "ic| p.chunks: [India,\n",
            "               India,\n",
            "               India,\n",
            "               India,\n",
            "               India,\n",
            "               India,\n",
            "               India,\n",
            "               India,\n",
            "               India,\n",
            "               India,\n",
            "               India,\n",
            "               India,\n",
            "               India,\n",
            "               India,\n",
            "               India]\n",
            "ic| p.rank: 0.07967418120907782, p.count: 1, p.text: 'Mr Qureshi'\n",
            "ic| p.chunks: [Mr Qureshi]\n",
            "ic| p.rank: 0.07737929719353193, p.count: 1, p.text: 'Imran Khan'\n",
            "ic| p.chunks: [Imran Khan]\n",
            "ic| p.rank: 0.07519746755174206\n",
            "    p.count: 2\n",
            "    p.text: 'humanitarian issues'\n",
            "ic| p.chunks: [humanitarian issues, humanitarian issues]\n",
            "ic| p.rank: 0.07514564230197351, p.count: 6, p.text: 'COVID-19'\n",
            "ic| p.chunks: [COVID-19, COVID-19, COVID-19, COVID-19, COVID-19, COVID-19]\n",
            "ic| p.rank: 0.07183668232834328\n",
            "    p.count: 2\n",
            "    p.text: 'Pak PM Imran Khan'\n",
            "ic| p.chunks: [Pak PM Imran Khan, Pak PM Imran Khan]\n",
            "ic| p.rank: 0.0687405983575124, p.count: 1, p.text: 'Khan'\n",
            "ic| p.chunks: [Khan]\n",
            "ic| p.rank: 0.06820938915079294, p.count: 1, p.text: 'people'\n",
            "ic| p.chunks: [people]\n",
            "ic| p.rank: 0.06714231766294255, p.count: 1, p.text: 'wave'\n",
            "ic| p.chunks: [wave]\n",
            "ic| p.rank: 0.06639714208583067\n",
            "    p.count: 1\n",
            "    p.text: 'Pakistan Foreign Minister Shah Mahmood Qureshi'\n",
            "ic| p.chunks: [Pakistan Foreign Minister Shah Mahmood Qureshi]\n",
            "ic| p.rank: 0.0631827126850356, p.count: 1, p.text: 'crisis'\n",
            "ic| p.chunks: [crisis]\n",
            "ic| p.rank: 0.06140022908044024, p.count: 1, p.text: 'SAARC countries'\n",
            "ic| p.chunks: [SAARC countries]\n",
            "ic| p.rank: 0.05887838605698376\n",
            "    p.count: 2\n",
            "    p.text: 'this global challenge'\n",
            "ic| p.chunks: [this global challenge, this global challenge]\n",
            "ic| p.rank: 0.05714713067667007, p.count: 2, p.text: 'responses'\n",
            "ic| p.chunks: [responses, responses]\n",
            "ic| p.rank: 0.05466653670109754, p.count: 2, p.text: 'Qureshi'\n",
            "ic| p.chunks: [Qureshi, Qureshi]\n",
            "ic| p.rank: 0.05379818151963872\n",
            "    p.count: 1\n",
            "    p.text: 'COVID-19 crisisPakistan Prime Minister Imran Khan'\n",
            "ic| p.chunks: [COVID-19 crisisPakistan Prime Minister Imran Khan]\n",
            "ic| p.rank: 0.05351235596159946, p.count: 2, p.text: 'solidarity'\n",
            "ic| p.chunks: [solidarity, solidarity]\n",
            "ic| p.rank: 0.049089007779786885\n",
            "    p.count: 1\n",
            "    p.text: 'the COVID-19 crisis'\n",
            "ic| p.chunks: [the COVID-19 crisis]\n",
            "ic| p.rank: 0.04779715274111176, p.count: 1, p.text: 'world'\n",
            "ic| p.chunks: [world]\n",
            "ic| p.rank: 0.04703850154818348, p.count: 1, p.text: 'Shah Mahmood'\n",
            "ic| p.chunks: [Shah Mahmood]\n",
            "ic| p.rank: 0.04535140482931438, p.count: 1, p.text: 'support'\n",
            "ic| p.chunks: [support]\n",
            "ic| p.rank: 0.04479078589404204\n",
            "    p.count: 1\n",
            "    p.text: '1,66,10,481 COVID-19 cases'\n",
            "ic| p.chunks: [1,66,10,481 COVID-19 cases]\n",
            "ic| p.rank: 0.04413262582889298\n",
            "    p.count: 1\n",
            "    p.text: '#COVID19 infections'\n",
            "ic| p.chunks: [#COVID19 infections]\n",
            "ic| p.rank: 0.042604599713697504, p.count: 4, p.text: 'Saturday'\n",
            "ic| p.chunks: [Saturday, Saturday, Saturday, Saturday]\n",
            "ic| p.rank: 0.042281495127536185, p.count: 1, p.text: 'cooperation'\n",
            "ic| p.chunks: [cooperation]\n",
            "ic| p.rank: 0.040745982251464245\n",
            "    p.count: 1\n",
            "    p.text: 'a dangerous wave'\n",
            "ic| p.chunks: [a dangerous wave]\n",
            "ic| p.rank: 0.03943722303024629\n",
            "    p.count: 1\n",
            "    p.text: 'the viral infection'\n",
            "ic| p.chunks: [the viral infection]\n",
            "ic| p.rank: 0.038911455544914056\n",
            "    p.count: 1\n",
            "    p.text: 'speedy recovery'\n",
            "ic| p.chunks: [speedy recovery]\n",
            "ic| p.rank: 0.03847414748978799\n",
            "    p.count: 1\n",
            "    p.text: 'the current wave'\n",
            "ic| p.chunks: [the current wave]\n",
            "ic| p.rank: 0.038177208037921816, p.count: 1, p.text: 'our region'\n",
            "ic| p.chunks: [our region]\n",
            "ic| p.rank: 0.03767387542936945, p.count: 1, p.text: '#India'\n",
            "ic| p.chunks: [#India]\n",
            "ic| p.rank: 0.03757689426607355, p.count: 1, p.text: 'State'\n",
            "ic| p.chunks: [State]\n",
            "ic| p.rank: 0.03740670894293638, p.count: 1, p.text: 'second'\n",
            "ic| p.chunks: [second]\n",
            "ic| p.rank: 0.03735169980818224, p.count: 1, p.text: '3,46,786'\n",
            "ic| p.chunks: [3,46,786]\n",
            "ic| p.rank: 0.0350516567542994, p.count: 2, p.text: 'Centre'\n",
            "ic| p.chunks: [Centre, Centre]\n",
            "ic| p.rank: 0.0343484770676581, p.count: 1, p.text: 'Delhi HC'\n",
            "ic| p.chunks: [Delhi HC]\n",
            "ic| p.rank: 0.033359625077178115\n",
            "    p.count: 1\n",
            "    p.text: '2,624 new deaths'\n",
            "ic| p.chunks: [2,624 new deaths]\n",
            "ic| p.rank: 0.03181832315382285\n",
            "    p.count: 1\n",
            "    p.text: 'the highest single-day spike'\n",
            "ic| p.chunks: [the highest single-day spike]\n",
            "ic| p.rank: 0.03150456734997619, p.count: 1, p.text: '1,89,544 people'\n",
            "ic| p.chunks: [1,89,544 people]\n",
            "ic| p.rank: 0.03150456734997619, p.count: 4, p.text: 'the people'\n",
            "ic| p.chunks: [the people, the people, the people, the people]\n",
            "ic| p.rank: 0.03107593326476773, p.count: 5, p.text: 'Pakistan'\n",
            "ic| p.chunks: [Pakistan, Pakistan, Pakistan, Pakistan, Pakistan]\n",
            "ic| p.rank: 0.0301225111897721\n",
            "    p.count: 2\n",
            "    p.text: 'the last 24 hours'\n",
            "ic| p.chunks: [the last 24 hours, the last 24 hours]\n",
            "ic| p.rank: 0.028852483709061905\n",
            "    p.count: 1\n",
            "    p.text: 'the affected families'\n",
            "ic| p.chunks: [the affected families]\n",
            "ic| p.rank: 0.027946328034890233\n",
            "    p.count: 1\n",
            "    p.text: '25,52,940 active cases'\n",
            "ic| p.chunks: [25,52,940 active cases]\n",
            "ic| p.rank: 0.027589899794123254\n",
            "    p.count: 1\n",
            "    p.text: 'the \"dangerous\" second wave'\n",
            "ic| p.chunks: [the \"dangerous\" second wave]\n",
            "ic| p.rank: 0.025855619113254992, p.count: 2, p.text: 'the country'\n",
            "ic| p.chunks: [the country, the country]\n",
            "ic| p.rank: 0.025006566011351514\n",
            "    p.count: 1\n",
            "    p.text: 'our heartfelt sympathies'\n",
            "ic| p.chunks: [our heartfelt sympathies]\n",
            "ic| p.rank: 0.02471629849552042, p.count: 1, p.text: 'his solidarity'\n",
            "ic| p.chunks: [his solidarity]\n",
            "ic| p.rank: 0.02471629849552042, p.count: 1, p.text: 'our solidarity'\n",
            "ic| p.chunks: [our solidarity]\n",
            "ic| p.rank: 0.024110092409375124, p.count: 1, p.text: '\"#COVID19'\n",
            "ic| p.chunks: [\"#COVID19]\n",
            "ic| p.rank: 0.024110092409375124, p.count: 1, p.text: 'Delhi'\n",
            "ic| p.chunks: [Delhi]\n",
            "ic| p.rank: 0.024110092409375124, p.count: 1, p.text: 'behalf'\n",
            "ic| p.chunks: [behalf]\n",
            "ic| p.rank: 0.024110092409375124, p.count: 1, p.text: 'tsunami'\n",
            "ic| p.chunks: [tsunami]\n",
            "ic| p.rank: 0.023430404403711823\n",
            "    p.count: 2\n",
            "    p.text: 'another reminder'\n",
            "ic| p.chunks: [another reminder, another reminder]\n",
            "ic| p.rank: 0.02103212394025154, p.count: 1, p.text: 'the pandemic'\n",
            "ic| p.chunks: [the pandemic]\n",
            "ic| p.rank: 0.02094691662906588, p.count: 1, p.text: 'our support'\n",
            "ic| p.chunks: [our support]\n",
            "ic| p.rank: 0.020919875873345088\n",
            "    p.count: 1\n",
            "    p.text: 'our neighbourhood'\n",
            "ic| p.chunks: [our neighbourhood]\n",
            "ic| p.rank: 0.020635915561235712\n",
            "    p.count: 1\n",
            "    p.text: 'the official data'\n",
            "ic| p.chunks: [the official data]\n",
            "ic| p.rank: 0.01735602401586214, p.count: 1, p.text: 'the government'\n",
            "ic| p.chunks: [the government]\n",
            "ic| p.rank: 0.016831965803928237, p.count: 1, p.text: 'the wake'\n",
            "ic| p.chunks: [the wake]\n",
            "ic| p.rank: 0.011135974674191584, p.count: 1, p.text: 'Our prayers'\n",
            "ic| p.chunks: [Our prayers]\n",
            "ic| p.rank: 0.0, p.count: 1, p.text: '#'\n",
            "ic| p.chunks: [#]\n",
            "ic| p.rank: 0.0, p.count: 1, p.text: '1,89,544'\n",
            "ic| p.chunks: [1,89,544]\n",
            "ic| p.rank: 0.0, p.count: 1, p.text: '2,624'\n",
            "ic| p.chunks: [2,624]\n",
            "ic| p.rank: 0.0, p.count: 1, p.text: '25,52,940'\n",
            "ic| p.chunks: [25,52,940]\n",
            "ic| p.rank: 0.0, p.count: 1, p.text: 'I'\n",
            "ic| p.chunks: [I]\n",
            "ic| p.rank: 0.0, p.count: 1, p.text: 'It'\n",
            "ic| p.chunks: [It]\n",
            "ic| p.rank: 0.0, p.count: 1, p.text: 'all those'\n",
            "ic| p.chunks: [all those]\n",
            "ic| p.rank: 0.0, p.count: 2, p.text: 'he'\n",
            "ic| p.chunks: [he, he]\n",
            "ic| p.rank: 0.0, p.count: 1, p.text: 'it'\n",
            "ic| p.chunks: [it]\n",
            "ic| p.rank: 0.0, p.count: 1, p.text: 'that'\n",
            "ic| p.chunks: [that]\n",
            "ic| p.rank: 0.0, p.count: 1, p.text: 'they'\n",
            "ic| p.chunks: [they]\n",
            "ic| p.rank: 0.0, p.count: 2, p.text: 'we'\n",
            "ic| p.chunks: [we, we]\n"
          ]
        }
      ]
    },
    {
      "cell_type": "code",
      "source": [
        "sent_bounds = [ [s.start, s.end, set([])] for s in doc.sents ]\n",
        "sent_bounds"
      ],
      "metadata": {
        "id": "qBsFPhHXiCfZ",
        "colab": {
          "base_uri": "https://localhost:8080/"
        },
        "outputId": "a17c9075-2def-458d-d8d6-1d78595e779d"
      },
      "execution_count": null,
      "outputs": [
        {
          "output_type": "execute_result",
          "data": {
            "text/plain": [
              "[[0, 48, set()],\n",
              " [48, 68, set()],\n",
              " [68, 105, set()],\n",
              " [105, 137, set()],\n",
              " [137, 164, set()],\n",
              " [164, 190, set()],\n",
              " [190, 204, set()],\n",
              " [204, 223, set()],\n",
              " [223, 246, set()],\n",
              " [246, 271, set()],\n",
              " [271, 294, set()],\n",
              " [294, 307, set()],\n",
              " [307, 310, set()],\n",
              " [310, 320, set()],\n",
              " [320, 329, set()]]"
            ]
          },
          "metadata": {},
          "execution_count": 7
        }
      ]
    },
    {
      "cell_type": "code",
      "source": [
        "limit_phrases = 4\n",
        "\n",
        "def get_top_phrases_vector(limit_phrases, doc, sent_bounds):\n",
        "    phrase_id = 0\n",
        "    unit_vector = []\n",
        "\n",
        "    for p in doc._.phrases:\n",
        "#         ic(phrase_id, p.text, p.rank)\n",
        "\n",
        "        unit_vector.append(p.rank)\n",
        "\n",
        "        for chunk in p.chunks:\n",
        "#             ic(chunk.start, chunk.end)\n",
        "\n",
        "            for sent_start, sent_end, sent_vector in sent_bounds:\n",
        "                if chunk.start >= sent_start and chunk.end <= sent_end:\n",
        "#                     ic(sent_start, chunk.start, chunk.end, sent_end)\n",
        "                    sent_vector.add(phrase_id)\n",
        "                    break\n",
        "\n",
        "        phrase_id += 1\n",
        "\n",
        "        if phrase_id == limit_phrases:\n",
        "            break\n",
        "    return unit_vector, sent_bounds\n",
        "\n",
        "unit_vector, sent_bounds = get_top_phrases_vector(limit_phrases, doc, sent_bounds)"
      ],
      "metadata": {
        "id": "N2jMb_BYiGy3"
      },
      "execution_count": null,
      "outputs": []
    },
    {
      "cell_type": "code",
      "source": [
        "unit_vector"
      ],
      "metadata": {
        "id": "6qx7IwDciNQt",
        "colab": {
          "base_uri": "https://localhost:8080/"
        },
        "outputId": "f3cb62de-ad04-410e-f245-cded9b27562b"
      },
      "execution_count": null,
      "outputs": [
        {
          "output_type": "execute_result",
          "data": {
            "text/plain": [
              "[0.10841237166421253,\n",
              " 0.09393970375423207,\n",
              " 0.08883598706685625,\n",
              " 0.0881448626609615]"
            ]
          },
          "metadata": {},
          "execution_count": 9
        }
      ]
    },
    {
      "cell_type": "code",
      "source": [
        "def normalize(unit_vector):\n",
        "    sum_ranks = sum(unit_vector)\n",
        "\n",
        "    unit_vector = [ rank/sum_ranks for rank in unit_vector ]\n",
        "    return unit_vector\n",
        "unit_vector = normalize(unit_vector)"
      ],
      "metadata": {
        "id": "jBylcjX5iPqI"
      },
      "execution_count": null,
      "outputs": []
    },
    {
      "cell_type": "code",
      "source": [
        "from math import sqrt\n",
        "\n",
        "def calc_eucliden_dist_from_unit_vector(sent_bounds, unit_vector):\n",
        "    sent_rank = {}\n",
        "    sent_id = 0\n",
        "\n",
        "    for sent_start, sent_end, sent_vector in sent_bounds:\n",
        "#         ic(sent_vector)\n",
        "        sum_sq = 0.0\n",
        "        for phrase_id in range(len(unit_vector)):\n",
        "    #         ic(phrase_id, unit_vector[phrase_id])\n",
        "\n",
        "            if phrase_id not in sent_vector:\n",
        "                sum_sq += unit_vector[phrase_id]**2.0\n",
        "\n",
        "        sent_rank[sent_id] = sqrt(sum_sq)\n",
        "        sent_id += 1\n",
        "    return sent_rank\n",
        "sent_rank = calc_eucliden_dist_from_unit_vector(sent_bounds, unit_vector)"
      ],
      "metadata": {
        "id": "izT175BXiTEA"
      },
      "execution_count": null,
      "outputs": []
    },
    {
      "cell_type": "code",
      "source": [
        "from operator import itemgetter\n",
        "limit_sentences = 1\n",
        "def fetch_sentences_upto_limit(limit_sentences, sent_rank, sent_text):\n",
        "    num_sent = 0\n",
        "    res = []\n",
        "    for sent_id, rank in sorted(sent_rank.items(), key=itemgetter(1)):\n",
        "#         ic(sent_id, sent_text[sent_id])\n",
        "        num_sent += 1\n",
        "        res.append((sent_id, sent_text[sent_id]))\n",
        "        if num_sent == limit_sentences:\n",
        "            return res\n",
        "            break"
      ],
      "metadata": {
        "id": "YyhrofsiiYqv"
      },
      "execution_count": null,
      "outputs": []
    },
    {
      "cell_type": "code",
      "source": [
        "sent_text = {}\n",
        "sent_id = 0\n",
        "for sent in doc.sents:\n",
        "    sent_text[sent_id] = sent.text\n",
        "    sent_id += 1\n",
        "final_res = fetch_sentences_upto_limit(limit_sentences, sent_rank, sent_text)\n",
        "print(final_res)"
      ],
      "metadata": {
        "id": "9x0olq84ifRH",
        "colab": {
          "base_uri": "https://localhost:8080/"
        },
        "outputId": "a649487c-be46-4969-a3cd-1e6a3200f5c0"
      },
      "execution_count": null,
      "outputs": [
        {
          "output_type": "stream",
          "name": "stdout",
          "text": [
            "[(0, 'Pak PM Imran Khan expresses solidarity with India over COVID-19 crisisPakistan Prime Minister Imran Khan on Saturday expressed his solidarity with the people of India amid the \"dangerous\" second wave of COVID-19, adding that \"we must fight this global challenge confronting humanity together\".')]\n"
          ]
        }
      ]
    },
    {
      "cell_type": "code",
      "source": [
        "!pip install rouge"
      ],
      "metadata": {
        "id": "ojfRv1EHih_4",
        "colab": {
          "base_uri": "https://localhost:8080/"
        },
        "outputId": "877f961e-9e42-4ae2-cd6f-b4d0fcbe8d75"
      },
      "execution_count": null,
      "outputs": [
        {
          "output_type": "stream",
          "name": "stdout",
          "text": [
            "Looking in indexes: https://pypi.org/simple, https://us-python.pkg.dev/colab-wheels/public/simple/\n",
            "Collecting rouge\n",
            "  Downloading rouge-1.0.1-py3-none-any.whl (13 kB)\n",
            "Requirement already satisfied: six in /usr/local/lib/python3.8/dist-packages (from rouge) (1.15.0)\n",
            "Installing collected packages: rouge\n",
            "Successfully installed rouge-1.0.1\n"
          ]
        }
      ]
    },
    {
      "cell_type": "code",
      "source": [
        "from rouge import Rouge\n",
        "ROUGE = Rouge()"
      ],
      "metadata": {
        "id": "UkQAWNwNik7y"
      },
      "execution_count": null,
      "outputs": []
    },
    {
      "cell_type": "code",
      "source": [
        "def fetch_fscores(prediction, reference):\n",
        "    rouge_res = ROUGE.get_scores(prediction, reference)[0]\n",
        "    fscores = [rouge_res[\"rouge-1\"][\"f\"], rouge_res[\"rouge-2\"][\"f\"], rouge_res[\"rouge-l\"][\"f\"]]\n",
        "    return fscores"
      ],
      "metadata": {
        "id": "SgSwbtkXinWm"
      },
      "execution_count": null,
      "outputs": []
    },
    {
      "cell_type": "code",
      "source": [
        "reference = valid_en[\"Article\"][0]\n",
        "prediction = final_res[0][1]\n",
        "ic(reference, prediction)\n",
        "fetch_fscores(prediction, reference)"
      ],
      "metadata": {
        "id": "S3KZbG2BiqFF",
        "colab": {
          "base_uri": "https://localhost:8080/"
        },
        "outputId": "48d813df-3a19-414d-d9e7-1500da81ff71"
      },
      "execution_count": null,
      "outputs": [
        {
          "output_type": "stream",
          "name": "stderr",
          "text": [
            "ic| reference: ('Pak PM Imran Khan expresses solidarity with India over COVID-19 '\n",
            "                'crisisPakistan Prime Minister Imran Khan on Saturday expressed his '\n",
            "                'solidarity with the people of India amid the \"dangerous\" second wave of '\n",
            "                'COVID-19, adding that \"we must fight this global challenge confronting '\n",
            "                'humanity together\".\"I want to express our solidarity with people of India as '\n",
            "                'they battle a dangerous wave of #COVID19. Our prayers for speedy recovery go '\n",
            "                'to all those suffering from pandemic in our neighbourhood and world,\" '\n",
            "                'tweeted Mr Khan.\"We must fight this global challenge confronting humanity '\n",
            "                'together,\" he added.Pakistan Foreign Minister Shah Mahmood Qureshi also '\n",
            "                'expressed support to the people of India and said the COVID-19 crisis is yet '\n",
            "                'another reminder that humanitarian issues require responses beyond political '\n",
            "                'consideration.\"We express our support to the people of India in the wake of '\n",
            "                'the current wave of #COVID19 infections that has hit our region hard. On '\n",
            "                'behalf of the people of Pakistan, I extend our heartfelt sympathies to the '\n",
            "                'affected families in #India,\" Mr Qureshi tweeted.\"#COVID19 is yet another '\n",
            "                'reminder that humanitarian issues require responses beyond political '\n",
            "                'consideration. Pakistan continues to work with SAARC countries to foster '\n",
            "                'cooperation to tackle the pandemic,\" he added.India on Saturday recorded '\n",
            "                '3,46,786 new COVID-19 cases, the highest single-day spike since the pandemic '\n",
            "                'broke out last year. According to the official data issued by the '\n",
            "                'government, the country recorded 2,624 new deaths due to COVID-19 in the '\n",
            "                'last 24 hours.So far, 1,66,10,481 COVID-19 cases have been reported in India '\n",
            "                'while 1,89,544 people have died due to the viral infection.\\xa0Currently, '\n",
            "                \"there are 25,52,940 active cases of COVID-19 in the country.ALSO READ | It's \"\n",
            "                'tsunami and we are calling it wave: Delhi HC tells Centre, State to overcome '\n",
            "                'crisis')\n",
            "    prediction: ('Pak PM Imran Khan expresses solidarity with India over COVID-19 '\n",
            "                 'crisisPakistan Prime Minister Imran Khan on Saturday expressed his '\n",
            "                 'solidarity with the people of India amid the \"dangerous\" second wave of '\n",
            "                 'COVID-19, adding that \"we must fight this global challenge confronting '\n",
            "                 'humanity together\".')\n"
          ]
        },
        {
          "output_type": "execute_result",
          "data": {
            "text/plain": [
              "[0.3495145602224527, 0.28368794082792625, 0.3495145602224527]"
            ]
          },
          "metadata": {},
          "execution_count": 33
        }
      ]
    },
    {
      "cell_type": "markdown",
      "source": [
        "# On Dataset"
      ],
      "metadata": {
        "id": "rZTEj84YisQZ"
      }
    },
    {
      "cell_type": "code",
      "source": [
        "train_en.head(3)"
      ],
      "metadata": {
        "id": "gyVdGXA5iwbp",
        "colab": {
          "base_uri": "https://localhost:8080/",
          "height": 292
        },
        "outputId": "3642a1f6-b47b-4752-b1ff-7dd9d9d6923c"
      },
      "execution_count": null,
      "outputs": [
        {
          "output_type": "execute_result",
          "data": {
            "text/plain": [
              "                                 id  \\\n",
              "0  3938f547c863630032649c54e611e6b0   \n",
              "1  1b336d62e9502c5b91b7afd3c7bcff46   \n",
              "2  082262f1c5a9e1112c39369403ff4e9a   \n",
              "\n",
              "                                                Link  \\\n",
              "0  https://www.indiatvnews.com/news/world/russia-...   \n",
              "1  https://www.indiatvnews.com/news/world-author-...   \n",
              "2  https://www.indiatvnews.com/news/world/fumio-k...   \n",
              "\n",
              "                                             Heading  \\\n",
              "0  Russia Ukraine War: Mastercard, Visa suspend o...   \n",
              "1  Author-Diplomat Vikas Swarup moved to Delhi as...   \n",
              "2  Japan’s ex-top diplomat Fumio Kishida to becom...   \n",
              "\n",
              "                                             Summary  \\\n",
              "0  Since the invasion of Ukraine, the value of th...   \n",
              "1  India on Wednesday banned the pro-Khalistan Si...   \n",
              "2  Kishida replaces outgoing party leader Prime M...   \n",
              "\n",
              "                                             Article  \n",
              "0  Logos for MasterCard and Visa credit cards at ...  \n",
              "1  Author-Diplomat Vikas Swarup moved to Delhi as...  \n",
              "2  Japan’s ex-top diplomat Fumio Kishida to becom...  "
            ],
            "text/html": [
              "\n",
              "  <div id=\"df-0eedef78-d561-4ada-95b0-58a078d35ad5\">\n",
              "    <div class=\"colab-df-container\">\n",
              "      <div>\n",
              "<style scoped>\n",
              "    .dataframe tbody tr th:only-of-type {\n",
              "        vertical-align: middle;\n",
              "    }\n",
              "\n",
              "    .dataframe tbody tr th {\n",
              "        vertical-align: top;\n",
              "    }\n",
              "\n",
              "    .dataframe thead th {\n",
              "        text-align: right;\n",
              "    }\n",
              "</style>\n",
              "<table border=\"1\" class=\"dataframe\">\n",
              "  <thead>\n",
              "    <tr style=\"text-align: right;\">\n",
              "      <th></th>\n",
              "      <th>id</th>\n",
              "      <th>Link</th>\n",
              "      <th>Heading</th>\n",
              "      <th>Summary</th>\n",
              "      <th>Article</th>\n",
              "    </tr>\n",
              "  </thead>\n",
              "  <tbody>\n",
              "    <tr>\n",
              "      <th>0</th>\n",
              "      <td>3938f547c863630032649c54e611e6b0</td>\n",
              "      <td>https://www.indiatvnews.com/news/world/russia-...</td>\n",
              "      <td>Russia Ukraine War: Mastercard, Visa suspend o...</td>\n",
              "      <td>Since the invasion of Ukraine, the value of th...</td>\n",
              "      <td>Logos for MasterCard and Visa credit cards at ...</td>\n",
              "    </tr>\n",
              "    <tr>\n",
              "      <th>1</th>\n",
              "      <td>1b336d62e9502c5b91b7afd3c7bcff46</td>\n",
              "      <td>https://www.indiatvnews.com/news/world-author-...</td>\n",
              "      <td>Author-Diplomat Vikas Swarup moved to Delhi as...</td>\n",
              "      <td>India on Wednesday banned the pro-Khalistan Si...</td>\n",
              "      <td>Author-Diplomat Vikas Swarup moved to Delhi as...</td>\n",
              "    </tr>\n",
              "    <tr>\n",
              "      <th>2</th>\n",
              "      <td>082262f1c5a9e1112c39369403ff4e9a</td>\n",
              "      <td>https://www.indiatvnews.com/news/world/fumio-k...</td>\n",
              "      <td>Japan’s ex-top diplomat Fumio Kishida to becom...</td>\n",
              "      <td>Kishida replaces outgoing party leader Prime M...</td>\n",
              "      <td>Japan’s ex-top diplomat Fumio Kishida to becom...</td>\n",
              "    </tr>\n",
              "  </tbody>\n",
              "</table>\n",
              "</div>\n",
              "      <button class=\"colab-df-convert\" onclick=\"convertToInteractive('df-0eedef78-d561-4ada-95b0-58a078d35ad5')\"\n",
              "              title=\"Convert this dataframe to an interactive table.\"\n",
              "              style=\"display:none;\">\n",
              "        \n",
              "  <svg xmlns=\"http://www.w3.org/2000/svg\" height=\"24px\"viewBox=\"0 0 24 24\"\n",
              "       width=\"24px\">\n",
              "    <path d=\"M0 0h24v24H0V0z\" fill=\"none\"/>\n",
              "    <path d=\"M18.56 5.44l.94 2.06.94-2.06 2.06-.94-2.06-.94-.94-2.06-.94 2.06-2.06.94zm-11 1L8.5 8.5l.94-2.06 2.06-.94-2.06-.94L8.5 2.5l-.94 2.06-2.06.94zm10 10l.94 2.06.94-2.06 2.06-.94-2.06-.94-.94-2.06-.94 2.06-2.06.94z\"/><path d=\"M17.41 7.96l-1.37-1.37c-.4-.4-.92-.59-1.43-.59-.52 0-1.04.2-1.43.59L10.3 9.45l-7.72 7.72c-.78.78-.78 2.05 0 2.83L4 21.41c.39.39.9.59 1.41.59.51 0 1.02-.2 1.41-.59l7.78-7.78 2.81-2.81c.8-.78.8-2.07 0-2.86zM5.41 20L4 18.59l7.72-7.72 1.47 1.35L5.41 20z\"/>\n",
              "  </svg>\n",
              "      </button>\n",
              "      \n",
              "  <style>\n",
              "    .colab-df-container {\n",
              "      display:flex;\n",
              "      flex-wrap:wrap;\n",
              "      gap: 12px;\n",
              "    }\n",
              "\n",
              "    .colab-df-convert {\n",
              "      background-color: #E8F0FE;\n",
              "      border: none;\n",
              "      border-radius: 50%;\n",
              "      cursor: pointer;\n",
              "      display: none;\n",
              "      fill: #1967D2;\n",
              "      height: 32px;\n",
              "      padding: 0 0 0 0;\n",
              "      width: 32px;\n",
              "    }\n",
              "\n",
              "    .colab-df-convert:hover {\n",
              "      background-color: #E2EBFA;\n",
              "      box-shadow: 0px 1px 2px rgba(60, 64, 67, 0.3), 0px 1px 3px 1px rgba(60, 64, 67, 0.15);\n",
              "      fill: #174EA6;\n",
              "    }\n",
              "\n",
              "    [theme=dark] .colab-df-convert {\n",
              "      background-color: #3B4455;\n",
              "      fill: #D2E3FC;\n",
              "    }\n",
              "\n",
              "    [theme=dark] .colab-df-convert:hover {\n",
              "      background-color: #434B5C;\n",
              "      box-shadow: 0px 1px 3px 1px rgba(0, 0, 0, 0.15);\n",
              "      filter: drop-shadow(0px 1px 2px rgba(0, 0, 0, 0.3));\n",
              "      fill: #FFFFFF;\n",
              "    }\n",
              "  </style>\n",
              "\n",
              "      <script>\n",
              "        const buttonEl =\n",
              "          document.querySelector('#df-0eedef78-d561-4ada-95b0-58a078d35ad5 button.colab-df-convert');\n",
              "        buttonEl.style.display =\n",
              "          google.colab.kernel.accessAllowed ? 'block' : 'none';\n",
              "\n",
              "        async function convertToInteractive(key) {\n",
              "          const element = document.querySelector('#df-0eedef78-d561-4ada-95b0-58a078d35ad5');\n",
              "          const dataTable =\n",
              "            await google.colab.kernel.invokeFunction('convertToInteractive',\n",
              "                                                     [key], {});\n",
              "          if (!dataTable) return;\n",
              "\n",
              "          const docLinkHtml = 'Like what you see? Visit the ' +\n",
              "            '<a target=\"_blank\" href=https://colab.research.google.com/notebooks/data_table.ipynb>data table notebook</a>'\n",
              "            + ' to learn more about interactive tables.';\n",
              "          element.innerHTML = '';\n",
              "          dataTable['output_type'] = 'display_data';\n",
              "          await google.colab.output.renderOutput(dataTable, element);\n",
              "          const docLink = document.createElement('div');\n",
              "          docLink.innerHTML = docLinkHtml;\n",
              "          element.appendChild(docLink);\n",
              "        }\n",
              "      </script>\n",
              "    </div>\n",
              "  </div>\n",
              "  "
            ]
          },
          "metadata": {},
          "execution_count": 24
        }
      ]
    },
    {
      "cell_type": "code",
      "source": [
        "from tqdm import tqdm\n",
        "limit_phrases = 10\n",
        "limit_sentences = 1\n",
        "df = train_en\n",
        "final_fscores = []\n",
        "for i in tqdm(range(len(df))):\n",
        "    text, summary = df[\"Article\"][i],df[\"Summary\"][i]\n",
        "    doc = nlp(text)\n",
        "    sent_bounds = [ [s.start, s.end, set([])] for s in doc.sents ]\n",
        "    unit_vector, sent_bounds = get_top_phrases_vector(limit_phrases, doc, sent_bounds)\n",
        "    unit_vector = normalize(unit_vector)\n",
        "    sent_rank = calc_eucliden_dist_from_unit_vector(sent_bounds, unit_vector)\n",
        "    sent_text = {}\n",
        "    sent_id = 0\n",
        "    for sent in doc.sents:\n",
        "        sent_text[sent_id] = sent.text\n",
        "        sent_id += 1\n",
        "    result = fetch_sentences_upto_limit(limit_sentences, sent_rank, sent_text)\n",
        "    fscore = fetch_fscores(summary, result[0][1])\n",
        "    final_fscores.append(fscore)"
      ],
      "metadata": {
        "id": "XAyfDEHUiy6D",
        "colab": {
          "base_uri": "https://localhost:8080/"
        },
        "outputId": "a8ccba09-7258-4743-acb0-a0c654e75a71"
      },
      "execution_count": null,
      "outputs": [
        {
          "output_type": "stream",
          "name": "stderr",
          "text": [
            "100%|██████████| 12565/12565 [27:00<00:00,  7.75it/s]\n"
          ]
        }
      ]
    },
    {
      "cell_type": "code",
      "source": [
        "[sum(i)/len(train_en) for i in zip(*final_fscores)]"
      ],
      "metadata": {
        "id": "_QDn04Oai2I_",
        "colab": {
          "base_uri": "https://localhost:8080/"
        },
        "outputId": "a8175b86-094e-462f-eb4d-87879140bd2c"
      },
      "execution_count": null,
      "outputs": [
        {
          "output_type": "execute_result",
          "data": {
            "text/plain": [
              "[0.2957232581656517, 0.1759517990552533, 0.263405550298097]"
            ]
          },
          "metadata": {},
          "execution_count": 26
        }
      ]
    },
    {
      "cell_type": "code",
      "source": [
        "result[0][1]"
      ],
      "metadata": {
        "colab": {
          "base_uri": "https://localhost:8080/",
          "height": 53
        },
        "id": "eouwSsE3suUn",
        "outputId": "a1af052a-32f7-4c19-fe28-90fa78bab3a9"
      },
      "execution_count": null,
      "outputs": [
        {
          "output_type": "execute_result",
          "data": {
            "text/plain": [
              "'China, which is constructing many hydropower projects in Tibet, plans to focus on dam building on rivers close to its provinces and not on the Brahmaputra which sparked concerns in India, state media reported today.\\xa0 '"
            ],
            "application/vnd.google.colaboratory.intrinsic+json": {
              "type": "string"
            }
          },
          "metadata": {},
          "execution_count": 32
        }
      ]
    }
  ]
}