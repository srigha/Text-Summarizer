{
  "nbformat": 4,
  "nbformat_minor": 0,
  "metadata": {
    "colab": {
      "provenance": [],
      "authorship_tag": "ABX9TyMOiFXXJhvooXlHnL1JzXno",
      "include_colab_link": true
    },
    "kernelspec": {
      "name": "python3",
      "display_name": "Python 3"
    },
    "language_info": {
      "name": "python"
    }
  },
  "cells": [
    {
      "cell_type": "markdown",
      "metadata": {
        "id": "view-in-github",
        "colab_type": "text"
      },
      "source": [
        "<a href=\"https://colab.research.google.com/github/ShriDurga17/Text-Summarizer/blob/main/ClusteringFMLMINI.ipynb\" target=\"_parent\"><img src=\"https://colab.research.google.com/assets/colab-badge.svg\" alt=\"Open In Colab\"/></a>"
      ]
    },
    {
      "cell_type": "code",
      "source": [
        "import pandas as pd\n",
        "df = pd.read_csv('/content/article val data set.csv')"
      ],
      "metadata": {
        "id": "jAXEA8lrGG31"
      },
      "execution_count": null,
      "outputs": []
    },
    {
      "cell_type": "code",
      "source": [
        "df.head()"
      ],
      "metadata": {
        "colab": {
          "base_uri": "https://localhost:8080/",
          "height": 751
        },
        "id": "k1IyeKOEGqq2",
        "outputId": "a59ad1f0-1578-40fe-ae83-4b66e1ea1acd"
      },
      "execution_count": null,
      "outputs": [
        {
          "output_type": "execute_result",
          "data": {
            "text/plain": [
              "                                 id  \\\n",
              "0  0e99444b1d4e7b8886582e371a6ce939   \n",
              "1  adfa04f5e1e7403dd90f5cddd29b6c37   \n",
              "2  77d978318d3503fc6485c138ae3f3aa2   \n",
              "3  973c4f387dc9f48e1be58608101bc3d6   \n",
              "4  cb502ddb99c6a53d46b300027b4fe589   \n",
              "\n",
              "                                             Article Unnamed: 2 Unnamed: 3  \\\n",
              "0  Pak PM Imran Khan expresses solidarity with In...        NaN        NaN   \n",
              "1  The Pentagon on Monday, June 18, 2018, formall...        NaN        NaN   \n",
              "2  Taliban fighters patrol in the Wazir Akbar Kha...        NaN        NaN   \n",
              "3  A top official of American  defence intelligen...        NaN        NaN   \n",
              "4  Boris Johnson's advisor under pressure over lo...        NaN        NaN   \n",
              "\n",
              "  Unnamed: 4 Unnamed: 5 Unnamed: 6 Unnamed: 7 Unnamed: 8 Unnamed: 9  ...  \\\n",
              "0        NaN        NaN        NaN        NaN        NaN        NaN  ...   \n",
              "1        NaN        NaN        NaN        NaN        NaN        NaN  ...   \n",
              "2        NaN        NaN        NaN        NaN        NaN        NaN  ...   \n",
              "3        NaN        NaN        NaN        NaN        NaN        NaN  ...   \n",
              "4        NaN        NaN        NaN        NaN        NaN        NaN  ...   \n",
              "\n",
              "  Unnamed: 223 Unnamed: 224 Unnamed: 225 Unnamed: 226 Unnamed: 227  \\\n",
              "0          NaN          NaN          NaN          NaN          NaN   \n",
              "1          NaN          NaN          NaN          NaN          NaN   \n",
              "2          NaN          NaN          NaN          NaN          NaN   \n",
              "3          NaN          NaN          NaN          NaN          NaN   \n",
              "4          NaN          NaN          NaN          NaN          NaN   \n",
              "\n",
              "  Unnamed: 228 Unnamed: 229 Unnamed: 230 Unnamed: 231 Unnamed: 232  \n",
              "0          NaN          NaN          NaN          NaN          NaN  \n",
              "1          NaN          NaN          NaN          NaN          NaN  \n",
              "2          NaN          NaN          NaN          NaN          NaN  \n",
              "3          NaN          NaN          NaN          NaN          NaN  \n",
              "4          NaN          NaN          NaN          NaN          NaN  \n",
              "\n",
              "[5 rows x 233 columns]"
            ],
            "text/html": [
              "\n",
              "  <div id=\"df-b74e153b-8127-4b20-a31c-d343b5c84573\">\n",
              "    <div class=\"colab-df-container\">\n",
              "      <div>\n",
              "<style scoped>\n",
              "    .dataframe tbody tr th:only-of-type {\n",
              "        vertical-align: middle;\n",
              "    }\n",
              "\n",
              "    .dataframe tbody tr th {\n",
              "        vertical-align: top;\n",
              "    }\n",
              "\n",
              "    .dataframe thead th {\n",
              "        text-align: right;\n",
              "    }\n",
              "</style>\n",
              "<table border=\"1\" class=\"dataframe\">\n",
              "  <thead>\n",
              "    <tr style=\"text-align: right;\">\n",
              "      <th></th>\n",
              "      <th>id</th>\n",
              "      <th>Article</th>\n",
              "      <th>Unnamed: 2</th>\n",
              "      <th>Unnamed: 3</th>\n",
              "      <th>Unnamed: 4</th>\n",
              "      <th>Unnamed: 5</th>\n",
              "      <th>Unnamed: 6</th>\n",
              "      <th>Unnamed: 7</th>\n",
              "      <th>Unnamed: 8</th>\n",
              "      <th>Unnamed: 9</th>\n",
              "      <th>...</th>\n",
              "      <th>Unnamed: 223</th>\n",
              "      <th>Unnamed: 224</th>\n",
              "      <th>Unnamed: 225</th>\n",
              "      <th>Unnamed: 226</th>\n",
              "      <th>Unnamed: 227</th>\n",
              "      <th>Unnamed: 228</th>\n",
              "      <th>Unnamed: 229</th>\n",
              "      <th>Unnamed: 230</th>\n",
              "      <th>Unnamed: 231</th>\n",
              "      <th>Unnamed: 232</th>\n",
              "    </tr>\n",
              "  </thead>\n",
              "  <tbody>\n",
              "    <tr>\n",
              "      <th>0</th>\n",
              "      <td>0e99444b1d4e7b8886582e371a6ce939</td>\n",
              "      <td>Pak PM Imran Khan expresses solidarity with In...</td>\n",
              "      <td>NaN</td>\n",
              "      <td>NaN</td>\n",
              "      <td>NaN</td>\n",
              "      <td>NaN</td>\n",
              "      <td>NaN</td>\n",
              "      <td>NaN</td>\n",
              "      <td>NaN</td>\n",
              "      <td>NaN</td>\n",
              "      <td>...</td>\n",
              "      <td>NaN</td>\n",
              "      <td>NaN</td>\n",
              "      <td>NaN</td>\n",
              "      <td>NaN</td>\n",
              "      <td>NaN</td>\n",
              "      <td>NaN</td>\n",
              "      <td>NaN</td>\n",
              "      <td>NaN</td>\n",
              "      <td>NaN</td>\n",
              "      <td>NaN</td>\n",
              "    </tr>\n",
              "    <tr>\n",
              "      <th>1</th>\n",
              "      <td>adfa04f5e1e7403dd90f5cddd29b6c37</td>\n",
              "      <td>The Pentagon on Monday, June 18, 2018, formall...</td>\n",
              "      <td>NaN</td>\n",
              "      <td>NaN</td>\n",
              "      <td>NaN</td>\n",
              "      <td>NaN</td>\n",
              "      <td>NaN</td>\n",
              "      <td>NaN</td>\n",
              "      <td>NaN</td>\n",
              "      <td>NaN</td>\n",
              "      <td>...</td>\n",
              "      <td>NaN</td>\n",
              "      <td>NaN</td>\n",
              "      <td>NaN</td>\n",
              "      <td>NaN</td>\n",
              "      <td>NaN</td>\n",
              "      <td>NaN</td>\n",
              "      <td>NaN</td>\n",
              "      <td>NaN</td>\n",
              "      <td>NaN</td>\n",
              "      <td>NaN</td>\n",
              "    </tr>\n",
              "    <tr>\n",
              "      <th>2</th>\n",
              "      <td>77d978318d3503fc6485c138ae3f3aa2</td>\n",
              "      <td>Taliban fighters patrol in the Wazir Akbar Kha...</td>\n",
              "      <td>NaN</td>\n",
              "      <td>NaN</td>\n",
              "      <td>NaN</td>\n",
              "      <td>NaN</td>\n",
              "      <td>NaN</td>\n",
              "      <td>NaN</td>\n",
              "      <td>NaN</td>\n",
              "      <td>NaN</td>\n",
              "      <td>...</td>\n",
              "      <td>NaN</td>\n",
              "      <td>NaN</td>\n",
              "      <td>NaN</td>\n",
              "      <td>NaN</td>\n",
              "      <td>NaN</td>\n",
              "      <td>NaN</td>\n",
              "      <td>NaN</td>\n",
              "      <td>NaN</td>\n",
              "      <td>NaN</td>\n",
              "      <td>NaN</td>\n",
              "    </tr>\n",
              "    <tr>\n",
              "      <th>3</th>\n",
              "      <td>973c4f387dc9f48e1be58608101bc3d6</td>\n",
              "      <td>A top official of American  defence intelligen...</td>\n",
              "      <td>NaN</td>\n",
              "      <td>NaN</td>\n",
              "      <td>NaN</td>\n",
              "      <td>NaN</td>\n",
              "      <td>NaN</td>\n",
              "      <td>NaN</td>\n",
              "      <td>NaN</td>\n",
              "      <td>NaN</td>\n",
              "      <td>...</td>\n",
              "      <td>NaN</td>\n",
              "      <td>NaN</td>\n",
              "      <td>NaN</td>\n",
              "      <td>NaN</td>\n",
              "      <td>NaN</td>\n",
              "      <td>NaN</td>\n",
              "      <td>NaN</td>\n",
              "      <td>NaN</td>\n",
              "      <td>NaN</td>\n",
              "      <td>NaN</td>\n",
              "    </tr>\n",
              "    <tr>\n",
              "      <th>4</th>\n",
              "      <td>cb502ddb99c6a53d46b300027b4fe589</td>\n",
              "      <td>Boris Johnson's advisor under pressure over lo...</td>\n",
              "      <td>NaN</td>\n",
              "      <td>NaN</td>\n",
              "      <td>NaN</td>\n",
              "      <td>NaN</td>\n",
              "      <td>NaN</td>\n",
              "      <td>NaN</td>\n",
              "      <td>NaN</td>\n",
              "      <td>NaN</td>\n",
              "      <td>...</td>\n",
              "      <td>NaN</td>\n",
              "      <td>NaN</td>\n",
              "      <td>NaN</td>\n",
              "      <td>NaN</td>\n",
              "      <td>NaN</td>\n",
              "      <td>NaN</td>\n",
              "      <td>NaN</td>\n",
              "      <td>NaN</td>\n",
              "      <td>NaN</td>\n",
              "      <td>NaN</td>\n",
              "    </tr>\n",
              "  </tbody>\n",
              "</table>\n",
              "<p>5 rows × 233 columns</p>\n",
              "</div>\n",
              "      <button class=\"colab-df-convert\" onclick=\"convertToInteractive('df-b74e153b-8127-4b20-a31c-d343b5c84573')\"\n",
              "              title=\"Convert this dataframe to an interactive table.\"\n",
              "              style=\"display:none;\">\n",
              "        \n",
              "  <svg xmlns=\"http://www.w3.org/2000/svg\" height=\"24px\"viewBox=\"0 0 24 24\"\n",
              "       width=\"24px\">\n",
              "    <path d=\"M0 0h24v24H0V0z\" fill=\"none\"/>\n",
              "    <path d=\"M18.56 5.44l.94 2.06.94-2.06 2.06-.94-2.06-.94-.94-2.06-.94 2.06-2.06.94zm-11 1L8.5 8.5l.94-2.06 2.06-.94-2.06-.94L8.5 2.5l-.94 2.06-2.06.94zm10 10l.94 2.06.94-2.06 2.06-.94-2.06-.94-.94-2.06-.94 2.06-2.06.94z\"/><path d=\"M17.41 7.96l-1.37-1.37c-.4-.4-.92-.59-1.43-.59-.52 0-1.04.2-1.43.59L10.3 9.45l-7.72 7.72c-.78.78-.78 2.05 0 2.83L4 21.41c.39.39.9.59 1.41.59.51 0 1.02-.2 1.41-.59l7.78-7.78 2.81-2.81c.8-.78.8-2.07 0-2.86zM5.41 20L4 18.59l7.72-7.72 1.47 1.35L5.41 20z\"/>\n",
              "  </svg>\n",
              "      </button>\n",
              "      \n",
              "  <style>\n",
              "    .colab-df-container {\n",
              "      display:flex;\n",
              "      flex-wrap:wrap;\n",
              "      gap: 12px;\n",
              "    }\n",
              "\n",
              "    .colab-df-convert {\n",
              "      background-color: #E8F0FE;\n",
              "      border: none;\n",
              "      border-radius: 50%;\n",
              "      cursor: pointer;\n",
              "      display: none;\n",
              "      fill: #1967D2;\n",
              "      height: 32px;\n",
              "      padding: 0 0 0 0;\n",
              "      width: 32px;\n",
              "    }\n",
              "\n",
              "    .colab-df-convert:hover {\n",
              "      background-color: #E2EBFA;\n",
              "      box-shadow: 0px 1px 2px rgba(60, 64, 67, 0.3), 0px 1px 3px 1px rgba(60, 64, 67, 0.15);\n",
              "      fill: #174EA6;\n",
              "    }\n",
              "\n",
              "    [theme=dark] .colab-df-convert {\n",
              "      background-color: #3B4455;\n",
              "      fill: #D2E3FC;\n",
              "    }\n",
              "\n",
              "    [theme=dark] .colab-df-convert:hover {\n",
              "      background-color: #434B5C;\n",
              "      box-shadow: 0px 1px 3px 1px rgba(0, 0, 0, 0.15);\n",
              "      filter: drop-shadow(0px 1px 2px rgba(0, 0, 0, 0.3));\n",
              "      fill: #FFFFFF;\n",
              "    }\n",
              "  </style>\n",
              "\n",
              "      <script>\n",
              "        const buttonEl =\n",
              "          document.querySelector('#df-b74e153b-8127-4b20-a31c-d343b5c84573 button.colab-df-convert');\n",
              "        buttonEl.style.display =\n",
              "          google.colab.kernel.accessAllowed ? 'block' : 'none';\n",
              "\n",
              "        async function convertToInteractive(key) {\n",
              "          const element = document.querySelector('#df-b74e153b-8127-4b20-a31c-d343b5c84573');\n",
              "          const dataTable =\n",
              "            await google.colab.kernel.invokeFunction('convertToInteractive',\n",
              "                                                     [key], {});\n",
              "          if (!dataTable) return;\n",
              "\n",
              "          const docLinkHtml = 'Like what you see? Visit the ' +\n",
              "            '<a target=\"_blank\" href=https://colab.research.google.com/notebooks/data_table.ipynb>data table notebook</a>'\n",
              "            + ' to learn more about interactive tables.';\n",
              "          element.innerHTML = '';\n",
              "          dataTable['output_type'] = 'display_data';\n",
              "          await google.colab.output.renderOutput(dataTable, element);\n",
              "          const docLink = document.createElement('div');\n",
              "          docLink.innerHTML = docLinkHtml;\n",
              "          element.appendChild(docLink);\n",
              "        }\n",
              "      </script>\n",
              "    </div>\n",
              "  </div>\n",
              "  "
            ]
          },
          "metadata": {},
          "execution_count": 3
        }
      ]
    },
    {
      "cell_type": "code",
      "source": [
        "text=df[\"Article\"][0]"
      ],
      "metadata": {
        "id": "OSKCoH5AGzV9"
      },
      "execution_count": null,
      "outputs": []
    },
    {
      "cell_type": "code",
      "source": [
        "text"
      ],
      "metadata": {
        "colab": {
          "base_uri": "https://localhost:8080/",
          "height": 244
        },
        "id": "h3_Xddw_93Qs",
        "outputId": "ab0c1dbb-7f8a-487c-8048-11b558b33094"
      },
      "execution_count": null,
      "outputs": [
        {
          "output_type": "execute_result",
          "data": {
            "text/plain": [
              "'Pak PM Imran Khan expresses solidarity with India over COVID-19 crisisPakistan Prime Minister Imran Khan on Saturday expressed his solidarity with the people of India amid the \"dangerous\" second wave of COVID-19, adding that \"we must fight this global challenge confronting humanity together\".\"I want to express our solidarity with people of India as they battle a dangerous wave of #COVID19. Our prayers for speedy recovery go to all those suffering from pandemic in our neighbourhood and world,\" tweeted Mr Khan.\"We must fight this global challenge confronting humanity together,\" he added.Pakistan Foreign Minister Shah Mahmood Qureshi also expressed support to the people of India and said the COVID-19 crisis is yet another reminder that humanitarian issues require responses beyond political consideration.\"We express our support to the people of India in the wake of the current wave of #COVID19 infections that has hit our region hard. On behalf of the people of Pakistan, I extend our heartfelt sympathies to the affected families in #India,\" Mr Qureshi tweeted.\"#COVID19 is yet another reminder that humanitarian issues require responses beyond political consideration. Pakistan continues to work with SAARC countries to foster cooperation to tackle the pandemic,\" he added.India on Saturday recorded 3,46,786 new COVID-19 cases, the highest single-day spike since the pandemic broke out last year. According to the official data issued by the government, the country recorded 2,624 new deaths due to COVID-19 in the last 24 hours.So far, 1,66,10,481 COVID-19 cases have been reported in India while 1,89,544 people have died due to the viral infection.\\xa0Currently, there are 25,52,940 active cases of COVID-19 in the country.ALSO READ | It\\'s tsunami and we are calling it wave: Delhi HC tells Centre, State to overcome crisis'"
            ],
            "application/vnd.google.colaboratory.intrinsic+json": {
              "type": "string"
            }
          },
          "metadata": {},
          "execution_count": 3
        }
      ]
    },
    {
      "cell_type": "code",
      "execution_count": null,
      "metadata": {
        "colab": {
          "base_uri": "https://localhost:8080/"
        },
        "id": "_4lDf6QhFiUk",
        "outputId": "ae048eaa-db7e-4e1d-a589-70dc826c4221"
      },
      "outputs": [
        {
          "output_type": "stream",
          "name": "stderr",
          "text": [
            "[nltk_data] Downloading package punkt to /root/nltk_data...\n",
            "[nltk_data]   Unzipping tokenizers/punkt.zip.\n"
          ]
        }
      ],
      "source": [
        "import nltk\n",
        "nltk.download('punkt')   # one time execution\n",
        "from nltk.tokenize import sent_tokenize\n",
        "sentence = sent_tokenize(text)"
      ]
    },
    {
      "cell_type": "code",
      "source": [
        "import re\n",
        "nltk.download('stopwords')  # one time execution\n",
        "from nltk.corpus import stopwords\n",
        "corpus = []\n",
        "for i in range(len(sentence)):\n",
        "    sen = re.sub('[^a-zA-Z]', \" \", sentence[i])\n",
        "    sen = sen.lower()\n",
        "    sen = sen.split()\n",
        "    sen = ' '.join([i for i in sen if i not in stopwords.words('english')])\n",
        "    corpus.append(sen)"
      ],
      "metadata": {
        "colab": {
          "base_uri": "https://localhost:8080/"
        },
        "id": "uUTNV-l0Flds",
        "outputId": "6857a6b5-1e0e-4e6c-e7ee-dc9ad40f410c"
      },
      "execution_count": null,
      "outputs": [
        {
          "output_type": "stream",
          "name": "stderr",
          "text": [
            "[nltk_data] Downloading package stopwords to /root/nltk_data...\n",
            "[nltk_data]   Unzipping corpora/stopwords.zip.\n"
          ]
        }
      ]
    },
    {
      "cell_type": "code",
      "source": [
        "from gensim.models import Word2Vec\n",
        "all_words = [i.split() for i in corpus]\n",
        "model = Word2Vec(all_words, min_count=1,size= 300)"
      ],
      "metadata": {
        "colab": {
          "base_uri": "https://localhost:8080/"
        },
        "id": "F_ypSQHgFoE3",
        "outputId": "a16b601d-7391-4a2c-96d9-cdf5fa8c95ab"
      },
      "execution_count": null,
      "outputs": [
        {
          "output_type": "stream",
          "name": "stderr",
          "text": [
            "WARNING:gensim.models.base_any2vec:under 10 jobs per worker: consider setting a smaller `batch_words' for smoother alpha decay\n"
          ]
        }
      ]
    },
    {
      "cell_type": "code",
      "source": [
        "sent_vector=[]\n",
        "for i in corpus:\n",
        "\n",
        "    plus=0\n",
        "    for j in i.split():\n",
        "        plus+= model.wv[j]\n",
        "    plus = plus/len(i.split())\n",
        "\n",
        "    sent_vector.append(plus)"
      ],
      "metadata": {
        "id": "YGctAXM3Fq9t"
      },
      "execution_count": null,
      "outputs": []
    },
    {
      "cell_type": "code",
      "source": [
        "import numpy as np\n",
        "from sklearn.cluster import KMeans\n",
        "n_clusters = 5\n",
        "kmeans = KMeans(n_clusters, init = 'k-means++', random_state = 42)\n",
        "y_kmeans = kmeans.fit_predict(sent_vector)"
      ],
      "metadata": {
        "id": "4lZYzs8fFvPM"
      },
      "execution_count": null,
      "outputs": []
    },
    {
      "cell_type": "code",
      "source": [
        "t1=[]\n",
        "from scipy.spatial import distance\n",
        "my_list=[]\n",
        "for i in range(n_clusters):\n",
        "    my_dict={}\n",
        "\n",
        "    for j in range(len(y_kmeans)):\n",
        "\n",
        "        if y_kmeans[j]==i:\n",
        "            my_dict[j] =  distance.euclidean(kmeans.cluster_centers_[i],sent_vector[j])\n",
        "    min_distance = min(my_dict.values())\n",
        "    my_list.append(min(my_dict, key=my_dict.get))\n",
        "\n",
        "\n",
        "for i in sorted(my_list):\n",
        "    print(sentence[i])\n",
        "    t1.append(sentence[i])"
      ],
      "metadata": {
        "colab": {
          "base_uri": "https://localhost:8080/"
        },
        "id": "sS1702ASFyxl",
        "outputId": "eaeebf2d-3b0a-4638-efb4-30848d74e47d"
      },
      "execution_count": null,
      "outputs": [
        {
          "output_type": "stream",
          "name": "stdout",
          "text": [
            "Pak PM Imran Khan expresses solidarity with India over COVID-19 crisisPakistan Prime Minister Imran Khan on Saturday expressed his solidarity with the people of India amid the \"dangerous\" second wave of COVID-19, adding that \"we must fight this global challenge confronting humanity together\".\n",
            "Our prayers for speedy recovery go to all those suffering from pandemic in our neighbourhood and world,\" tweeted Mr Khan.\n",
            "\"We express our support to the people of India in the wake of the current wave of #COVID19 infections that has hit our region hard.\n",
            "On behalf of the people of Pakistan, I extend our heartfelt sympathies to the affected families in #India,\" Mr Qureshi tweeted.\n",
            "\"#COVID19 is yet another reminder that humanitarian issues require responses beyond political consideration.\n"
          ]
        }
      ]
    },
    {
      "cell_type": "code",
      "source": [
        "!pip install rouge"
      ],
      "metadata": {
        "colab": {
          "base_uri": "https://localhost:8080/"
        },
        "id": "7XKwdBpjF1k2",
        "outputId": "f6f54f81-f5b8-4b8e-ef3a-4c6b6de21547"
      },
      "execution_count": null,
      "outputs": [
        {
          "output_type": "stream",
          "name": "stdout",
          "text": [
            "Looking in indexes: https://pypi.org/simple, https://us-python.pkg.dev/colab-wheels/public/simple/\n",
            "Collecting rouge\n",
            "  Downloading rouge-1.0.1-py3-none-any.whl (13 kB)\n",
            "Requirement already satisfied: six in /usr/local/lib/python3.8/dist-packages (from rouge) (1.15.0)\n",
            "Installing collected packages: rouge\n",
            "Successfully installed rouge-1.0.1\n"
          ]
        }
      ]
    },
    {
      "cell_type": "code",
      "source": [
        "from rouge import Rouge\n",
        "ROUGE = Rouge()\n"
      ],
      "metadata": {
        "id": "vbxj4fJAHVp_"
      },
      "execution_count": null,
      "outputs": []
    },
    {
      "cell_type": "code",
      "source": [
        "def fetch_fscores(prediction, reference):\n",
        "    rouge_res = ROUGE.get_scores(t1,text)[0]\n",
        "    fscores = [rouge_res[\"rouge-1\"][\"f\"], rouge_res[\"rouge-2\"][\"f\"], rouge_res[\"rouge-l\"][\"f\"]]\n",
        "    return fscores"
      ],
      "metadata": {
        "id": "Ox3QHVi5IbGY"
      },
      "execution_count": null,
      "outputs": []
    },
    {
      "cell_type": "code",
      "source": [
        "t1"
      ],
      "metadata": {
        "colab": {
          "base_uri": "https://localhost:8080/"
        },
        "id": "TF04ovRfIyBV",
        "outputId": "8f6b5af1-9a32-41b5-d8a3-25983f223821"
      },
      "execution_count": null,
      "outputs": [
        {
          "output_type": "execute_result",
          "data": {
            "text/plain": [
              "['Pak PM Imran Khan expresses solidarity with India over COVID-19 crisisPakistan Prime Minister Imran Khan on Saturday expressed his solidarity with the people of India amid the \"dangerous\" second wave of COVID-19, adding that \"we must fight this global challenge confronting humanity together\".',\n",
              " 'Our prayers for speedy recovery go to all those suffering from pandemic in our neighbourhood and world,\" tweeted Mr Khan.',\n",
              " '\"We express our support to the people of India in the wake of the current wave of #COVID19 infections that has hit our region hard.',\n",
              " 'On behalf of the people of Pakistan, I extend our heartfelt sympathies to the affected families in #India,\" Mr Qureshi tweeted.',\n",
              " '\"#COVID19 is yet another reminder that humanitarian issues require responses beyond political consideration.']"
            ]
          },
          "metadata": {},
          "execution_count": 29
        }
      ]
    },
    {
      "cell_type": "code",
      "source": [
        "t1 = ' '.join(t1)\n",
        "print(t1)"
      ],
      "metadata": {
        "colab": {
          "base_uri": "https://localhost:8080/"
        },
        "id": "uYufG2nRJ96m",
        "outputId": "4bc1d5c2-bbc8-40ce-ebdf-78850e63f693"
      },
      "execution_count": null,
      "outputs": [
        {
          "output_type": "stream",
          "name": "stdout",
          "text": [
            "Pak PM Imran Khan expresses solidarity with India over COVID-19 crisisPakistan Prime Minister Imran Khan on Saturday expressed his solidarity with the people of India amid the \"dangerous\" second wave of COVID-19, adding that \"we must fight this global challenge confronting humanity together\". Our prayers for speedy recovery go to all those suffering from pandemic in our neighbourhood and world,\" tweeted Mr Khan. \"We express our support to the people of India in the wake of the current wave of #COVID19 infections that has hit our region hard. On behalf of the people of Pakistan, I extend our heartfelt sympathies to the affected families in #India,\" Mr Qureshi tweeted. \"#COVID19 is yet another reminder that humanitarian issues require responses beyond political consideration.\n"
          ]
        }
      ]
    },
    {
      "cell_type": "code",
      "source": [
        "fetch_fscores(t1,text)"
      ],
      "metadata": {
        "colab": {
          "base_uri": "https://localhost:8080/"
        },
        "id": "8spQ2z1SKMuT",
        "outputId": "c1faff1c-921a-4ffa-f570-f9542950c311"
      },
      "execution_count": null,
      "outputs": [
        {
          "output_type": "execute_result",
          "data": {
            "text/plain": [
              "[0.6872586827477231, 0.6232294574449679, 0.6872586827477231]"
            ]
          },
          "metadata": {},
          "execution_count": 32
        }
      ]
    }
  ]
}